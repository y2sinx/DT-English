{
 "cells": [
  {
   "cell_type": "code",
   "execution_count": 2,
   "metadata": {},
   "outputs": [],
   "source": [
    "from ibr.br import *"
   ]
  },
  {
   "cell_type": "markdown",
   "metadata": {},
   "source": [
    "The World War  \n",
    "-------------"
   ]
  },
  {
   "cell_type": "markdown",
   "metadata": {},
   "source": [
    "## 安娜和世界末日"
   ]
  },
  {
   "cell_type": "markdown",
   "metadata": {},
   "source": [
    "1. P.E. is calling: 要上体育课了\n",
    "1. Am I lying? Am I cheating? Am I fooling myself?是我说谎是我欺骗是我愚弄自己么?  \n",
    "1. Trapped in this momont, ready to fly: 困于当下, 准备起飞\n",
    "1. How much longer must I wait?: 我必须还要等多久\n",
    "1. This is real: 这是现实\n",
    "1. You smell like a shoe: 你闻起来像个臭鞋子\n",
    "1. New morning, Feels different then before: 暂新的清晨, 感觉与以往不同\n",
    "1. old-fashioned: ['əuld'fæʃənd], adj. 老式的;过时的;守旧的\n",
    "1. What the fuck: 什么鬼\n",
    "1. repast: [rɪ'pɑːst], 就餐(晚餐)\n",
    "1. penance: ['penəns], n.忏悔\n",
    "1. a life for a life: 一命换一命\n",
    "1. You are not alone: 你并不孤单(我还陪着你)\n",
    "1. \n",
    "1. \n",
    "1. \n",
    "1. \n",
    "1. \n"
   ]
  },
  {
   "cell_type": "code",
   "execution_count": 15,
   "metadata": {},
   "outputs": [
    {
     "name": "stdout",
     "output_type": "stream",
     "text": [
      "penance: ['penəns]\n",
      "vt. 使.以苦行赎罪\n",
      "n. 苦修;忏悔\n"
     ]
    }
   ],
   "source": [
    "youdao(\"penance\")"
   ]
  },
  {
   "cell_type": "markdown",
   "metadata": {},
   "source": [
    "达芬奇:  \n",
    "1. You must be tired: 你一定累了吧\n",
    "1. It's good to see you. Truly it is: 很高兴见到你这是真的\n",
    "1. piss pot: 尿壶\n",
    "1. sinner: 罪人\n",
    "1. We do thed evil's work: 我们行恶魔之事\n",
    "1. coward: ['ka-ʊəd], n. 懦夫\n",
    "1. You will promise me: 你许诺我\n",
    "1. \n",
    "1. \n",
    "1. \n",
    "1. \n",
    "1. \n",
    "1. \n",
    "1. \n",
    "1. \n",
    "1. "
   ]
  },
  {
   "cell_type": "code",
   "execution_count": 12,
   "metadata": {},
   "outputs": [
    {
     "name": "stdout",
     "output_type": "stream",
     "text": [
      "old-fashioned: ['əuld'fæʃənd]\n",
      "adj. 老式的;过时的;守旧的\n"
     ]
    }
   ],
   "source": [
    "youdao(\"old-fashioned\")"
   ]
  },
  {
   "cell_type": "markdown",
   "metadata": {},
   "source": []
  },
  {
   "cell_type": "markdown",
   "metadata": {},
   "source": []
  },
  {
   "cell_type": "markdown",
   "metadata": {},
   "source": []
  },
  {
   "cell_type": "markdown",
   "metadata": {},
   "source": []
  },
  {
   "cell_type": "markdown",
   "metadata": {},
   "source": [
    "1. \n",
    "1. cheerios: 麦片 \n",
    "1. I'm cool with it: 我不介意\n",
    "1. I'm not deat yet: 我还没死\n",
    "1. yet: [jet]\n",
    "    * adv. 还;但是;已经\n",
    "    * conj. 但是;然而\n",
    "    * n. (Yet)人名;(东南亚国家华语)一\n",
    "1. sober: ['səʊbə]  \n",
    "    * adj. 冷静的;清醒的;未醉的  \n",
    "    * vt. 使严肃;使清醒;使醒酒  \n",
    "    * n. 人名,索伯  \n",
    "1. mile: \n",
    "    * n. 1英里,1.6Km\n",
    "1. negotiable: [nɪ'gəʊʃəb(ə)l; -ʃɪə-]\n",
    "    * adj. 可通过谈判解决的;可协商的\n",
    "1. I can't. Sorry.\n",
    "1. seat belt: 安全带\n",
    "1. 我们要窃听他前妻的电话么? Yeah, do it.\n",
    "1. 上车: Get in the car.  \n",
    "1. Do you have a plan?\n",
    "1. pain killers: 止痛药\n",
    "1. sleeping pills: 安眠药"
   ]
  },
  {
   "cell_type": "markdown",
   "metadata": {},
   "source": [
    "**米兰达2**:  \n",
    "1. free food: 免费的食物  \n",
    "1. wooing: 求爱\n",
    "1. It's feelings of fear, embarrassmen: 感到害怕, 尴尬\n",
    "1. I'm stuck in the chair: 我被卡在椅子里了\n",
    "1. The chair issue? 什么椅子问题.\n",
    "1. This has been one of life's true pleasures: 这才是人生的一大乐趣  \n",
    "1. erotic: [ɪ'rɒtɪk], n.好色之徒\n",
    "1. chili: ['tʃɪlɪ], n. 辣椒\n",
    "1. wasp: [wɒsp], n. 黄蜂\n",
    "1. Please, please, don't, don't hurt me.求你了, 不要, 不要伤害我.\n",
    "1. Can you leave,please?请你离开\n",
    "1. Bear, with..back: 等一下..好了\n",
    "1. Life can be fun: 生活可以是很有趣的\n",
    "1. new you: 一个崭新的你\n",
    "1. Not again? 又来这套.  \n",
    "1. What have you done today to make you feel proud? 你今天做了什么值得骄傲的事情.\n",
    "1. I said to myself: 我自言自语呢\n",
    "1. chase me: 来抓我啊\n",
    "1. Not really: 不是真的吧\n",
    "1.\n",
    "1. \n",
    "\n"
   ]
  },
  {
   "cell_type": "markdown",
   "metadata": {},
   "source": []
  },
  {
   "cell_type": "markdown",
   "metadata": {},
   "source": []
  },
  {
   "cell_type": "markdown",
   "metadata": {},
   "source": []
  },
  {
   "cell_type": "markdown",
   "metadata": {},
   "source": []
  },
  {
   "cell_type": "code",
   "execution_count": 33,
   "metadata": {},
   "outputs": [
    {
     "name": "stdout",
     "output_type": "stream",
     "text": [
      "camp: [kæmp]\n",
      "vi. 露营;扎营\n",
      "vt. 扎营;使扎营\n",
      "n. 露营\n",
      "n. (Camp)人名;(英)坎普;(瑞典)坎普;(法)康\n"
     ]
    }
   ],
   "source": [
    "youdao(\"camp\")"
   ]
  },
  {
   "cell_type": "code",
   "execution_count": 36,
   "metadata": {},
   "outputs": [
    {
     "name": "stdout",
     "output_type": "stream",
     "text": [
      "chick: [tʃɪk]\n",
      "n. 小鸡;小鸟;少妇\n",
      "adj. 胆小的;懦弱的\n",
      "n. (Chick)人名;(英)奇克\n"
     ]
    }
   ],
   "source": [
    "youdao(\"chick\")"
   ]
  },
  {
   "cell_type": "markdown",
   "metadata": {},
   "source": []
  },
  {
   "cell_type": "markdown",
   "metadata": {},
   "source": [
    "**波西米亚狂想曲**\n",
    "1. Out with friends: 跟朋友出去\n",
    "1. How can I help you: 进店买衣服时服务员说, 我怎么帮助你\n",
    "1. Don't move: 不要动\n",
    "1. i\n",
    "1. \n",
    "1. \n"
   ]
  },
  {
   "cell_type": "code",
   "execution_count": 4,
   "metadata": {},
   "outputs": [
    {
     "name": "stdout",
     "output_type": "stream",
     "text": [
      "queen: [kwiːn]\n",
      "n. 女王,王后;(纸牌中的)皇后;(蜜蜂等的)蜂王\n",
      "vt. 使.成为女王或王后\n",
      "vi. 做女王\n",
      "n. (Queen)人名;(英)奎因\n"
     ]
    }
   ],
   "source": [
    "youdao(\"\")"
   ]
  },
  {
   "cell_type": "markdown",
   "metadata": {},
   "source": []
  },
  {
   "cell_type": "markdown",
   "metadata": {},
   "source": []
  },
  {
   "cell_type": "markdown",
   "metadata": {},
   "source": []
  },
  {
   "cell_type": "markdown",
   "metadata": {},
   "source": []
  },
  {
   "cell_type": "markdown",
   "metadata": {},
   "source": []
  },
  {
   "cell_type": "markdown",
   "metadata": {},
   "source": []
  },
  {
   "cell_type": "markdown",
   "metadata": {},
   "source": []
  },
  {
   "cell_type": "markdown",
   "metadata": {},
   "source": []
  },
  {
   "cell_type": "markdown",
   "metadata": {},
   "source": []
  },
  {
   "cell_type": "markdown",
   "metadata": {},
   "source": []
  }
 ],
 "metadata": {
  "kernelspec": {
   "display_name": "Python 3",
   "language": "python",
   "name": "python3"
  },
  "language_info": {
   "codemirror_mode": {
    "name": "ipython",
    "version": 3
   },
   "file_extension": ".py",
   "mimetype": "text/x-python",
   "name": "python",
   "nbconvert_exporter": "python",
   "pygments_lexer": "ipython3",
   "version": "3.7.3"
  },
  "toc": {
   "base_numbering": 1,
   "nav_menu": {},
   "number_sections": true,
   "sideBar": true,
   "skip_h1_title": true,
   "title_cell": "Table of Contents",
   "title_sidebar": "Contents",
   "toc_cell": false,
   "toc_position": {},
   "toc_section_display": true,
   "toc_window_display": false
  }
 },
 "nbformat": 4,
 "nbformat_minor": 4
}
