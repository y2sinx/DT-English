{
 "cells": [
  {
   "cell_type": "markdown",
   "metadata": {},
   "source": [
    "among 与 amount 的区别? \n",
    "-------------------------------------\n",
    "among是一个介词, 表示\"在..之中(>=3)\"或\"是..当中的一个(one of)\":  \n",
    "* They hid themselves among the trees. 他们躲在树林中.  \n",
    "* Paris is among the largest cities in the world.  \n",
    "\n",
    "amount做名词表示\"数量;金额\", 做动词表示\"合计;等于\":\n",
    "* A large amount(Large amounts) of money was(were) spent on the bridge.  \n",
    "* Building cost amounts to six million dollars. 建筑费用达600 万元.  \n",
    "* Her reply amounts to a refusal. 她的回答等于拒绝."
   ]
  },
  {
   "cell_type": "markdown",
   "metadata": {},
   "source": []
  },
  {
   "cell_type": "code",
   "execution_count": 24,
   "metadata": {},
   "outputs": [
    {
     "name": "stdout",
     "output_type": "stream",
     "text": [
      "=========== Set-Loc1:<harmony.n.01> ============\n",
      "*Set*:['harmony', 'harmoniousness']\n",
      "*Ex*:[]\n",
      "*Def*: compatibility in opinion and action\n",
      "\n",
      "=========== Set-Loc2:<harmony.n.02> ============\n",
      "*Set*:['harmony', 'musical_harmony']\n",
      "*Ex*:[]\n",
      "*Def*: the structure of music with respect to the composition and progression of chords\n",
      "\n",
      "=========== Set-Loc3:<harmony.n.03> ============\n",
      "*Set*:['harmony', 'concord', 'concordance']\n",
      "*Ex*:[]\n",
      "*Def*: a harmonious state of things in general and of their properties (as of colors and sounds); congruity of parts with one another and with the whole\n",
      "\n",
      "=========== Set-Loc4:<harmony.n.04> ============\n",
      "*Set*:['harmony', 'concord', 'concordance']\n",
      "*Ex*:[]\n",
      "*Def*: agreement of opinions\n",
      "\n",
      "=========== Set-Loc5:<harmony.n.05> ============\n",
      "*Set*:['harmony']\n",
      "*Ex*:[]\n",
      "*Def*: an agreeable sound property\n",
      "\n"
     ]
    }
   ],
   "source": [
    "word_meaning('harmony',10)"
   ]
  },
  {
   "cell_type": "markdown",
   "metadata": {},
   "source": [
    "1. against the grain: 与...相违背  \n",
    "It takes courage and confidence to **go against the grain** of negativity that surrounds you, and such courage can bring great rewards.   \n",
    "% 与环绕你的负能量**对坑**需要勇气和信心, 并且这种勇气可以给你带来巨大的回报. "
   ]
  },
  {
   "cell_type": "markdown",
   "metadata": {},
   "source": [
    "1. all but:  \n",
    "* 副词: 修饰 v/adj, 表示\"几乎\"  \n",
    "He has been **all but** forgotten.  \n",
    "% 他**几乎**已被人遗忘.  \n",
    "* 介词: 修饰 n, 表示\"除了...都\"; all=全集-but的宾语  \n",
    "All but three of the girls have passed the examination.  \n",
    "% 除了3个女生, 其余的学生都通过了考试.  "
   ]
  },
  {
   "cell_type": "markdown",
   "metadata": {},
   "source": [
    "1. at large: 一般的  \n",
    "* 整个: society at large % 整个社会   \n",
    "* 详细地: The question was discussed at large. \n",
    "* 在逃的: The mountain lion that killed the hiker was still at large.  "
   ]
  },
  {
   "cell_type": "markdown",
   "metadata": {},
   "source": [
    "1. be at home in: 精通  \n",
    "Don't you know Barry is at home in German?  \n",
    "% 你不知道巴里精通德语吗？  "
   ]
  },
  {
   "cell_type": "markdown",
   "metadata": {},
   "source": [
    "1. by no means: 绝不  \n",
    "He was forceful, but **by no means** a zealot.  \n",
    "% 他个性坚定, 但绝不是什么狂热分子."
   ]
  },
  {
   "cell_type": "markdown",
   "metadata": {},
   "source": [
    "1. cast off: \n",
    "* 摆脱  \n",
    "He cast off fear and decided to make a try.  \n",
    "% 他摆脱了害怕心理, 决定去试一试. \n",
    "* 解开:  \n",
    "Let's cast off the rope and free the boat.  \n",
    "% 让我们解开绳缆然后开船吧."
   ]
  },
  {
   "cell_type": "markdown",
   "metadata": {},
   "source": [
    "every walk of life: 各行各业  \n",
    "first rank: 一流的  \n",
    "get ... in tune: 与...相呼应  \n"
   ]
  },
  {
   "cell_type": "markdown",
   "metadata": {},
   "source": [
    "单词:  \n",
    "splitters: 分离器  \n",
    "transient: [ˈtrænziənt], 短暂的  \n",
    "scratchpads: ['skrætʃpæd], 便条簿  \n",
    "mirror into: 反映到...    \n",
    "delimiter: [dɪ'lɪmɪtə], 定界符  \n",
    "unified: ['ju:nifaid], 统一的  \n",
    "collapsible: [kəˈlæpsəbl], 可折叠的  \n",
    "session: [ˈseʃn], 会话  \n",
    "reside: [rɪˈzaɪd], 居住,属于  \n",
    "restore: [rɪˈstɔː(r)], 恢复  \n",
    "nomenclature: [nəˈmeŋklətʃə(r)], 命名法    \n",
    "specification: [ˌspesɪfɪˈkeɪʃn], n. 规格,说明书  \n",
    "prepended: [pri:'pend], vt. 预先考虑"
   ]
  }
 ],
 "metadata": {
  "kernelspec": {
   "display_name": "Python 3",
   "language": "python",
   "name": "python3"
  },
  "language_info": {
   "codemirror_mode": {
    "name": "ipython",
    "version": 3
   },
   "file_extension": ".py",
   "mimetype": "text/x-python",
   "name": "python",
   "nbconvert_exporter": "python",
   "pygments_lexer": "ipython3",
   "version": "3.7.3"
  },
  "toc": {
   "base_numbering": 1,
   "nav_menu": {},
   "number_sections": true,
   "sideBar": true,
   "skip_h1_title": true,
   "title_cell": "Table of Contents",
   "title_sidebar": "Contents",
   "toc_cell": false,
   "toc_position": {},
   "toc_section_display": true,
   "toc_window_display": false
  }
 },
 "nbformat": 4,
 "nbformat_minor": 4
}
