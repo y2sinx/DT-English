{
 "cells": [
  {
   "cell_type": "markdown",
   "metadata": {},
   "source": [
    "情景\n",
    "-------"
   ]
  },
  {
   "cell_type": "markdown",
   "metadata": {},
   "source": [
    "只有将单词带入情景之中(只有明白在汉语的意思才能明白在英语的意思)才能理解其真正的含义. \n",
    "* 例句: 如美剧, China Daily等的上下文\n",
    "* 生活场景: 路牌,菜单"
   ]
  },
  {
   "cell_type": "markdown",
   "metadata": {},
   "source": [
    "一个单词有好几个貌似毫无关联的含义"
   ]
  },
  {
   "cell_type": "markdown",
   "metadata": {},
   "source": [
    "youdao: 使用有道词典查询单词的含义"
   ]
  },
  {
   "cell_type": "code",
   "execution_count": 62,
   "metadata": {},
   "outputs": [
    {
     "name": "stdout",
     "output_type": "stream",
     "text": [
      "virtu\n",
      "virtual\n",
      "virtualism\n",
      "virtualist\n",
      "virtuality\n",
      "virtualize\n",
      "virtually\n",
      "virtue\n",
      "virtued\n",
      "virtuefy\n",
      "virtuelessness\n",
      "virtueproof\n",
      "virtuless\n",
      "virtuosa\n",
      "virtuose\n",
      "virtuosi\n",
      "virtuosic\n",
      "virtuosity\n",
      "virtuoso\n",
      "virtuosoship\n",
      "virtuous\n",
      "virtuouslike\n",
      "virtuously\n",
      "virtuousness\n"
     ]
    }
   ],
   "source": [
    "for i in word_shape('virtu*'):\n",
    "    print(i)"
   ]
  },
  {
   "cell_type": "code",
   "execution_count": 58,
   "metadata": {},
   "outputs": [
    {
     "name": "stdout",
     "output_type": "stream",
     "text": [
      "============ Set-Loc1:<niche.n.01> =============\n",
      "*Set*:['niche']\n",
      "*Ex*:['he found his niche in the academic world']\n",
      "*Def*: a position particularly well suited to the person who occupies it\n",
      "\n",
      "============ Set-Loc2:<recess.n.02> ============\n",
      "*Set*:['recess', 'recession', 'niche', 'corner']\n",
      "*Ex*:[]\n",
      "*Def*: a small concavity\n",
      "\n",
      "============ Set-Loc3:<recess.n.04> ============\n",
      "*Set*:['recess', 'niche']\n",
      "*Ex*:[]\n",
      "*Def*: an enclosure that is set back or indented\n",
      "\n",
      "============ Set-Loc4:<niche.n.04> =============\n",
      "*Set*:['niche', 'ecological_niche']\n",
      "*Ex*:[]\n",
      "*Def*: (ecology) the status of an organism within its environment and community (affecting its survival as a species)\n",
      "\n"
     ]
    }
   ],
   "source": [
    "word_meaning('niche',5)"
   ]
  },
  {
   "cell_type": "markdown",
   "metadata": {},
   "source": [
    "词意\n",
    "-----"
   ]
  },
  {
   "cell_type": "markdown",
   "metadata": {},
   "source": [
    "word_meaning: 查询单词所在的词集(含同义词)  \n",
    "1. impose = enforce"
   ]
  },
  {
   "cell_type": "code",
   "execution_count": 51,
   "metadata": {},
   "outputs": [
    {
     "name": "stdout",
     "output_type": "stream",
     "text": [
      "============ Set-Loc1:<niche.n.01> =============\n",
      "*Set*:['niche']\n",
      "*Ex*:['he found his niche in the academic world']\n",
      "*Def*: a position particularly well suited to the person who occupies it\n",
      "\n",
      "============ Set-Loc2:<recess.n.02> ============\n",
      "*Set*:['recess', 'recession', 'niche', 'corner']\n",
      "*Ex*:[]\n",
      "*Def*: a small concavity\n",
      "\n",
      "============ Set-Loc3:<recess.n.04> ============\n",
      "*Set*:['recess', 'niche']\n",
      "*Ex*:[]\n",
      "*Def*: an enclosure that is set back or indented\n",
      "\n",
      "============ Set-Loc4:<niche.n.04> =============\n",
      "*Set*:['niche', 'ecological_niche']\n",
      "*Ex*:[]\n",
      "*Def*: (ecology) the status of an organism within its environment and community (affecting its survival as a species)\n",
      "\n"
     ]
    }
   ],
   "source": [
    "word_meaning('niche',10)"
   ]
  },
  {
   "cell_type": "code",
   "execution_count": 49,
   "metadata": {},
   "outputs": [
    {
     "data": {
      "text/plain": [
       "['niche']"
      ]
     },
     "execution_count": 49,
     "metadata": {},
     "output_type": "execute_result"
    }
   ],
   "source": [
    "word_shape('niche')"
   ]
  },
  {
   "cell_type": "markdown",
   "metadata": {},
   "source": [
    "词形  \n",
    "--"
   ]
  },
  {
   "cell_type": "markdown",
   "metadata": {},
   "source": [
    "word_shape: 使用的unix shell的匹配模式过滤单词\n",
    "\n",
    "1. `*`: 匹配0或多个字符  \n",
    "1. `?`: 匹配任意一个字符  \n",
    "1. `[list]`: 匹配list中的任意单一字符  \n",
    "`[!list]`: 匹配除list中的任意单一字符\n",
    "`[c1-c2]`: 匹配c1-c2中的任意单一字符\n",
    "\n",
    "\n",
    "terrestrial  \n",
    "territorial"
   ]
  },
  {
   "cell_type": "code",
   "execution_count": 39,
   "metadata": {
    "scrolled": true
   },
   "outputs": [
    {
     "name": "stdout",
     "output_type": "stream",
     "text": [
      "terrestrial |\n",
      "territorial |\n"
     ]
    },
    {
     "data": {
      "text/plain": [
       "'2'"
      ]
     },
     "execution_count": 39,
     "metadata": {},
     "output_type": "execute_result"
    }
   ],
   "source": [
    "%col 1 word_shape('terr???rial')"
   ]
  },
  {
   "cell_type": "markdown",
   "metadata": {},
   "source": [
    "听力  \n",
    "----"
   ]
  },
  {
   "cell_type": "markdown",
   "metadata": {},
   "source": [
    "video2audio: 将视频转化为音频  "
   ]
  },
  {
   "cell_type": "code",
   "execution_count": 49,
   "metadata": {},
   "outputs": [],
   "source": [
    "# video2audio('F:\\WeAreBears\\S01E01-S01E02.mkv')"
   ]
  },
  {
   "cell_type": "markdown",
   "metadata": {},
   "source": [
    "## 构建自己的词汇表"
   ]
  },
  {
   "cell_type": "markdown",
   "metadata": {},
   "source": [
    "构建自己的词汇表 `my_words.txt`, 并且可以根据单词查询其所在的行`search_words()`  \n",
    "\n",
    "* doughnut: 甜甜圈  \n",
    "* cereal: 粮食/谷类食品"
   ]
  },
  {
   "cell_type": "markdown",
   "metadata": {},
   "source": [
    "在自建词汇表中查询单词"
   ]
  },
  {
   "cell_type": "code",
   "execution_count": 7,
   "metadata": {},
   "outputs": [],
   "source": [
    "%%disabled \n",
    "search_words('terr???rial')"
   ]
  },
  {
   "cell_type": "code",
   "execution_count": 5,
   "metadata": {
    "scrolled": true
   },
   "outputs": [
    {
     "name": "stdout",
     "output_type": "stream",
     "text": [
      "slip: 滑倒;犯错\n",
      "\n"
     ]
    }
   ],
   "source": [
    "search_words('sli*')"
   ]
  },
  {
   "cell_type": "markdown",
   "metadata": {},
   "source": [
    "考试大纲词汇\n",
    "------------------"
   ]
  },
  {
   "cell_type": "markdown",
   "metadata": {},
   "source": [
    "- [2018 年全国硕士研究生招生考试英语(一)考试大纲(非英语专业)]( http://www.hep.edu.cn/book/details?uuid=78396d2-1581-1000-ab16-55b34aba28f0&objectId=oid:7839755-1581-1000-ab17-55b34aba28f0)"
   ]
  }
 ],
 "metadata": {
  "kernelspec": {
   "display_name": "Python 3",
   "language": "python",
   "name": "python3"
  },
  "language_info": {
   "codemirror_mode": {
    "name": "ipython",
    "version": 3
   },
   "file_extension": ".py",
   "mimetype": "text/x-python",
   "name": "python",
   "nbconvert_exporter": "python",
   "pygments_lexer": "ipython3",
   "version": "3.7.3"
  },
  "toc": {
   "base_numbering": 1,
   "nav_menu": {},
   "number_sections": true,
   "sideBar": true,
   "skip_h1_title": true,
   "title_cell": "Table of Contents",
   "title_sidebar": "Contents",
   "toc_cell": false,
   "toc_position": {},
   "toc_section_display": true,
   "toc_window_display": false
  }
 },
 "nbformat": 4,
 "nbformat_minor": 4
}
