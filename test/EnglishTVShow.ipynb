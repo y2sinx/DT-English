{
 "cells": [
  {
   "cell_type": "code",
   "execution_count": 6,
   "metadata": {},
   "outputs": [
    {
     "name": "stdout",
     "output_type": "stream",
     "text": [
      "Pyhton is no longer afraid of mathematics\n"
     ]
    }
   ],
   "source": [
    "youdao2(\"\"\"Pyhton当家, 再也不怕数理化\"\"\",en2zh=0)"
   ]
  },
  {
   "cell_type": "code",
   "execution_count": 2,
   "metadata": {},
   "outputs": [
    {
     "name": "stdout",
     "output_type": "stream",
     "text": [
      "至\n"
     ]
    }
   ],
   "source": [
    "ggtrans(\"\"\"to\"\"\")"
   ]
  },
  {
   "cell_type": "code",
   "execution_count": 1,
   "metadata": {},
   "outputs": [
    {
     "name": "stdout",
     "output_type": "stream",
     "text": [
      "2\n"
     ]
    }
   ],
   "source": [
    "print(2)"
   ]
  },
  {
   "cell_type": "markdown",
   "metadata": {},
   "source": [
    "**伞学院**:  \n",
    "1. You, not so much: 你一般般吧  \n",
    "1. You look great: 你看起lai不错\n",
    "1. \n",
    "1. \n",
    "1. \n",
    "1. "
   ]
  },
  {
   "cell_type": "markdown",
   "metadata": {},
   "source": [
    "**无耻之徒**\n",
    "1. jugs: /dʒʌɡ/, (有柄有嘴的)壶, 夜壶(骂人)\n",
    "1. snitch: [snɪtʃ], vi. 告密\n",
    "1. chop: [tʃɒp], n. 砍;排骨;商标;削球\n",
    "1. junkie: ['dʒʌŋkɪ], n.有毒瘾者\n",
    "1. shut the fuckup: 闭嘴  \n",
    "1. dead soul: 灵魂已死  "
   ]
  },
  {
   "cell_type": "markdown",
   "metadata": {},
   "source": [
    "** The favorite: 宠儿 **\n",
    "\n",
    "This mud stinks: 泥巴真臭  \n",
    "Clean yourself up: 把你自己打扫干净  \n",
    "You're such a child: 你太孩子气了  \n",
    "lisp: [lɪsp], nv. 口齿不清"
   ]
  },
  {
   "cell_type": "markdown",
   "metadata": {},
   "source": [
    "**泰坦尼克号**  \n",
    "1. No one who cared: 没人关心  \n",
    "1. This is absurd: 这荒谬  "
   ]
  },
  {
   "cell_type": "markdown",
   "metadata": {},
   "source": [
    "**韦恩**:  \n",
    "1. spoon: [spuːn], n.勺子  \n",
    "1. Don't bother: 不要操心  "
   ]
  },
  {
   "cell_type": "markdown",
   "metadata": {},
   "source": [
    "**表象之下**  \n",
    "1. Did I wake you: 我吵醒你了吗  \n",
    "1. Burn her or we will: 烧死她否则我们  \n",
    "1. Is anyone here: 这儿有人么\n",
    "1. Take me to the girl: 带我去见那个女孩 \n",
    "1. stay close: 紧跟着我 \n",
    "1. abbot: ['æbət], n. 男修道院院长;大寺院男住持\n",
    "1. the cross: 十字架  \n",
    "1. You do not belong here: 你不属于这里 \n",
    "1. I'm not going anywhere: 我哪里都不去\n",
    "1. i will do this alone: 我一个人做这件事  \n",
    "1. If there's any way I can assist? 有什么我能帮忙的么?\n",
    "1. sanctum: ['sæŋ(k)təm], n. 圣所;密室  \n",
    "1. I'll pray for you: 我为你祈祷  \n",
    "1. You scared me: 你吓死我了\n",
    "1. inner circle: 核心集团  \n",
    "1. inquisitor: [ɪn'kwɪzɪtə], n. 审判者\n",
    "1. The food is rotten: 食物腐烂了  \n",
    "1. Find you later: 过会再找你  \n",
    "1. stay back: 退后\n",
    "1. I slipped: 我滑到了  \n",
    "1. She's gone: 她死了\n",
    "1. I must be dreaming: 我一定是在做梦  \n",
    "1. How is this possible: 这怎么可能  \n",
    "1. Who goes there? 谁在那里?  \n",
    "1. purge the evil, purge the sins: 净化邪恶,净化罪过"
   ]
  },
  {
   "cell_type": "markdown",
   "metadata": {},
   "source": [
    "**憨豆特工3**  \n",
    "1. I assure you: 向你保证  \n",
    "1. nearly there: 很快就到了\n",
    "1. That's a shame: 真遗憾  \n",
    "1. Do what you have to do: 做你该做的  \n",
    "1. Do we have a deal? 我们能达成协议么?\n",
    "1. Not so fast: 不要走得难么快  "
   ]
  },
  {
   "cell_type": "markdown",
   "metadata": {},
   "source": [
    "**憨豆特工**  \n",
    "1. agent: 代理, 特工\n",
    "1. Don't be jealous: 不要嫉妒\n",
    "1. sign and date: 签字并注明日期\n",
    "1. hello yourself: 你也好\n",
    "1. What now? 现在怎么办?\n",
    "1. keep showing up: 阴魂不算 \n",
    "1. MI7: 军情7处 \n",
    "1. Everything set? 一切都安排好了么?\n",
    "1. I nearly forget: 我差一点忘了\n",
    "1. Alarm's disabled, sir: 警报已解除\n",
    "1. Hands up: 举起手来\n",
    "1. Wrong answer: 回答错误\n",
    "1. sb. has seen/known too much: 某人知道的太多了\n",
    "1. abdicate: ['æbdɪkeɪt], vi. 退位;放弃\n",
    "1. I'm off the case: 我不管这个案子了\n",
    "1. poop: [puːp], vi, 排便\n",
    "1. Take them away: 把他们带下去 \n",
    "1. hop: [hɒp], v. 跳跃\n",
    "1. rejoice: [rɪ'dʒɒɪs], v. 欢庆  \n",
    "1. Are you insane? 你疯了么\n",
    "1. Does your mother know? 你妈妈知道么\n"
   ]
  },
  {
   "cell_type": "markdown",
   "metadata": {},
   "source": [
    "**IMDb**: 2/21  \n",
    "1. doom: [duːm], n.世界末日\n",
    "1. Can I go home now: 我现在可以回家了么 \n",
    "1. trailer: ['treɪlə], n. [电视]预告片 "
   ]
  },
  {
   "cell_type": "markdown",
   "metadata": {},
   "source": [
    "**上帝加我好友**\n",
    "1. Sirius: 天狼星  \n",
    "1. podcast: [pɔd'kʌst], n. 播客\n",
    "1. move on: 释然  \n",
    "1. No judgement: 不批评 "
   ]
  },
  {
   "cell_type": "markdown",
   "metadata": {},
   "source": [
    "**绿皮书**  \n",
    "1. punk: [pʌŋk], n. 废物; adj. 朋客\n",
    "1. ice cold: 冰凉的(酒)\n",
    "1. Don't go too far: 不要走得太远 \n",
    "1. Duty calls: 公务在身\n",
    "1. Eyes on the road: 看着路点\n",
    "1. What are you? A seal: 你是谁, 海豹\n",
    "1. make the first move: 走出第一步  \n",
    "1. break a leg: 演出成功"
   ]
  },
  {
   "cell_type": "markdown",
   "metadata": {},
   "source": [
    "**ChinaDaily**\n",
    "1. to celebrate the upcoming Year of the Pig: 庆祝即将来临的猪年\n",
    "1. rendition: [ren'dɪʃ(ə)n], n.演译(经典)\n",
    "1. **Creature comforts**: ?\n",
    "1. immortality: [ɪmɔː'tælɪtɪ], n.不朽\n",
    "1. zillionaire: [,zɪljə'neə], n. 亿万富翁(10^4万亿)\n",
    "1. mantra: ['mæntrə], n. 口头禅;咒语\n",
    "1. render sth. realizable: 是..变为现实  \n",
    "1. Prometheus: [prəu'mi:θju:s; -θiəs]; n. 普罗米修斯(为人类盗火种甘受罚)\n",
    "1. incessant rain confined them indoors: 不停的雨把他们限制在室内\n",
    "1. hero or villain ['vɪlən]: 英雄还是恶棍\n",
    "1. moniker: ['mɒnɪkə], n. 绰号\n",
    "1. poignancy: ['pɔɪɡnənsi], n.辛辣;辛酸事\n",
    "1. What was once just a story about a single \"mad scientist\" has now become mankind's wake-up call.  \n",
    "曾经只是一个关于一个\"疯狂科学家\"的故事现在已成为人类的警钟."
   ]
  },
  {
   "cell_type": "markdown",
   "metadata": {},
   "source": [
    "**裸熊**\n",
    "1. We got next: 轮到我们了  \n",
    "1. Time out: 暂停         \n",
    "1. my bad: 我的锅\n",
    "1. Do we forget somthing? 我们是不是忘了什么事情  \n",
    "1. latte: ['lɑːteɪ; 'læteɪ], n. 拿铁咖啡(coffee latte)"
   ]
  },
  {
   "cell_type": "markdown",
   "metadata": {},
   "source": [
    " 1. I will cover for you. 我会帮你善后的  \n",
    " 1. parasite: 寄生虫 "
   ]
  },
  {
   "cell_type": "markdown",
   "metadata": {},
   "source": [
    "**黑豹**:  \n",
    "1. As you wish: 如你所愿  \n",
    "1. Not so good: 不怎样\n",
    "1. I did no such thing: 我没做这样的事  \n",
    "1. marvel: ['mɑːv(ə)l], n. 奇迹, 漫威漫画; vt. 对..感到惊异\n",
    "1. No need: 没事的\n",
    "1. I never freeze: 我从来不会愣住\n",
    "1. No games: 不要耍花招  \n",
    "1. Are you finished: 你说完了么(做完了么)  \n",
    "1. Onward: ['ɒnwəd], 前进  \n",
    "1. panther: ['pænθə], n.黑豹  \n",
    "1. yield or death: 投降或者死亡  \n",
    "1. You're a good man with a good heart: 你是一个好人\n",
    "1. my calling: 我的使命\n",
    "1. Spread out: 分散开\n",
    "1. Eyes up: 注意\n",
    "1. split up: 分开走\n",
    "1. hold tight: 抓紧\n",
    "1. Are you done? 你们完事了么 \n",
    "1. You belive that? 你相信么"
   ]
  }
 ],
 "metadata": {
  "kernelspec": {
   "display_name": "Python 3",
   "language": "python",
   "name": "python3"
  },
  "language_info": {
   "codemirror_mode": {
    "name": "ipython",
    "version": 3
   },
   "file_extension": ".py",
   "mimetype": "text/x-python",
   "name": "python",
   "nbconvert_exporter": "python",
   "pygments_lexer": "ipython3",
   "version": "3.6.5"
  },
  "toc": {
   "base_numbering": 1,
   "nav_menu": {},
   "number_sections": true,
   "sideBar": true,
   "skip_h1_title": false,
   "title_cell": "Table of Contents",
   "title_sidebar": "Contents",
   "toc_cell": false,
   "toc_position": {},
   "toc_section_display": true,
   "toc_window_display": false
  },
  "varInspector": {
   "cols": {
    "lenName": 16,
    "lenType": 16,
    "lenVar": 40
   },
   "kernels_config": {
    "python": {
     "delete_cmd_postfix": "",
     "delete_cmd_prefix": "del ",
     "library": "var_list.py",
     "varRefreshCmd": "print(var_dic_list())"
    },
    "r": {
     "delete_cmd_postfix": ") ",
     "delete_cmd_prefix": "rm(",
     "library": "var_list.r",
     "varRefreshCmd": "cat(var_dic_list()) "
    }
   },
   "types_to_exclude": [
    "module",
    "function",
    "builtin_function_or_method",
    "instance",
    "_Feature"
   ],
   "window_display": false
  }
 },
 "nbformat": 4,
 "nbformat_minor": 2
}
