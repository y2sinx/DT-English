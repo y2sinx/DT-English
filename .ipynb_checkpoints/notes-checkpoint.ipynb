{
 "cells": [
  {
   "cell_type": "code",
   "execution_count": 112,
   "metadata": {},
   "outputs": [
    {
     "data": {
      "text/plain": [
       "<module 'ddpie.english' from 'F:\\\\Git2\\\\ddpie\\\\english.py'>"
      ]
     },
     "execution_count": 112,
     "metadata": {},
     "output_type": "execute_result"
    }
   ],
   "source": [
    "reload2(english)"
   ]
  },
  {
   "cell_type": "code",
   "execution_count": 113,
   "metadata": {},
   "outputs": [
    {
     "name": "stdout",
     "output_type": "stream",
     "text": [
      "['[细胞]']\n",
      "cytokine: [a]/'saɪtə(ʊ)kaɪn/;  n. <细胞> 细胞因子;细胞激素; [add]; [or]:yd;\n"
     ]
    }
   ],
   "source": [
    "english.youdao_self(\"cytokine\")"
   ]
  },
  {
   "cell_type": "code",
   "execution_count": 48,
   "metadata": {},
   "outputs": [],
   "source": [
    "old=[' n. ',\n",
    "     ' v. ',\n",
    "     ' vt. ',\n",
    "     ' vi. ',     \n",
    "     ' adj. ',\n",
    "     ' adv. ',\n",
    "     \n",
    "    \n",
    "]\n",
    "new=['[n]',\n",
    "     '[v]',\n",
    "     '[vt]',\n",
    "     '[vi]',\n",
    "     '[adj]'，\n",
    "     '[adv]',\n",
    "     \n",
    "     \n",
    "    \n",
    "]\n",
    "\n",
    "().replace().replace()"
   ]
  },
  {
   "cell_type": "code",
   "execution_count": null,
   "metadata": {},
   "outputs": [],
   "source": []
  },
  {
   "cell_type": "code",
   "execution_count": 32,
   "metadata": {},
   "outputs": [
    {
     "name": "stdout",
     "output_type": "stream",
     "text": [
      "Can't find it in Youdao.\n",
      "\n"
     ]
    }
   ],
   "source": [
    "\n",
    "%kk cytokine"
   ]
  },
  {
   "cell_type": "code",
   "execution_count": 22,
   "metadata": {},
   "outputs": [
    {
     "name": "stdout",
     "output_type": "stream",
     "text": [
      "cytokine: [a]/'saɪtə(ʊ)kaɪn/; n. [细胞] 细胞因子;细胞激素; [add]; [or]:yd;\n"
     ]
    }
   ],
   "source": [
    "%kk_line cytokine"
   ]
  }
 ],
 "metadata": {
  "kernelspec": {
   "display_name": "Python 3",
   "language": "python",
   "name": "python3"
  },
  "language_info": {
   "codemirror_mode": {
    "name": "ipython",
    "version": 3
   },
   "file_extension": ".py",
   "mimetype": "text/x-python",
   "name": "python",
   "nbconvert_exporter": "python",
   "pygments_lexer": "ipython3",
   "version": "3.7.3"
  },
  "toc": {
   "base_numbering": 1,
   "nav_menu": {},
   "number_sections": true,
   "sideBar": true,
   "skip_h1_title": true,
   "title_cell": "Table of Contents",
   "title_sidebar": "Contents",
   "toc_cell": false,
   "toc_position": {},
   "toc_section_display": true,
   "toc_window_display": false
  }
 },
 "nbformat": 4,
 "nbformat_minor": 4
}
