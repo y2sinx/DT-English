{
 "cells": [
  {
   "cell_type": "code",
   "execution_count": null,
   "metadata": {},
   "outputs": [],
   "source": [
    "ABBR = {'': ('', ''),\n",
    "    'adj': ('adjective', '形容词'),\n",
    "    'adv': ('adverb', '副词'),\n",
    "    'art': ('article', '冠词'),\n",
    "    'conj': ('conjunction', '连词'),\n",
    "    'int': ('interjection', '感叹词'),\n",
    "    'n': ('noun', '名词'),\n",
    "    'num': ('numeral', '数词'),\n",
    "    'a': ('accent', '音标'),\n",
    "    'prep': ('preposition', '介词'),\n",
    "    'pron': ('pronoun', '代词'),\n",
    "    'v': ('verb', '动词'),\n",
    "    'auxv': ('Auxiliary Verb', '助动词,情态动词'),\n",
    "    'vi': ('intransitive verb', '不及物动词'),\n",
    "    'vt': ('transitive verb', '及物动词'),\n",
    "    'syn': ('synonym','近义词'),\n",
    "    'ex': ('example','例句,短语'),\n",
    "    'sw': ('similar words','形近词'),\n",
    "    'def': ('definition', '定义,解释'),\n",
    "    'add': ('additional','单词形态变化'),\n",
    "    'pl': ('plural','名词复数'),\n",
    "    's3': ('third person singular','第三人称单数'),\n",
    "    'pr': ('present participle','现在分词'),\n",
    "    'pt': ('past tense','过去式'),\n",
    "    'pp': ('past participle','过去分词'),\n",
    "    'er':('comparative','比较级'),\n",
    "    'est':('superlative','最高级'),\n",
    "    } "
   ]
  },
  {
   "cell_type": "code",
   "execution_count": 34,
   "metadata": {
    "scrolled": true
   },
   "outputs": [
    {
     "name": "stdout",
     "output_type": "stream",
     "text": [
      "Initializing:\n",
      "Number: 15259\n",
      "From: all\n"
     ]
    }
   ],
   "source": [
    "# %%disabled\n",
    "reload2(english)\n",
    "dt=english.EngDict('all')"
   ]
  },
  {
   "cell_type": "markdown",
   "metadata": {},
   "source": [
    "## group_self\n"
   ]
  },
  {
   "cell_type": "markdown",
   "metadata": {},
   "source": [
    "1. 写个小程序把音标位置放在最前\n",
    "2. 将self中的单词释义改为有道形式\n",
    "\n",
    "start over: 重新开始;从头再来\n",
    "wake up: 自己醒来或被别人唤醒(醒一醒);激起;"
   ]
  },
  {
   "cell_type": "markdown",
   "metadata": {},
   "source": [
    "## word_self\n",
    "\n",
    "transfusion: [ac]/trænsˈfjuːʒn/; [n]输血;输液;倾注;灌输; [ad]pl/transfusions;"
   ]
  },
  {
   "cell_type": "code",
   "execution_count": 35,
   "metadata": {},
   "outputs": [
    {
     "name": "stdout",
     "output_type": "stream",
     "text": [
      "transfusion: [acc]/trænsˈfjuːʒn/; [n][临床] 输血;[临床] 输液;倾注;灌输;  [add]复数/transfusions;\n"
     ]
    }
   ],
   "source": [
    "dt.lookup(\"transfusion\")"
   ]
  },
  {
   "cell_type": "code",
   "execution_count": 36,
   "metadata": {},
   "outputs": [],
   "source": [
    "!code"
   ]
  }
 ],
 "metadata": {
  "kernelspec": {
   "display_name": "Python 3",
   "language": "python",
   "name": "python3"
  },
  "language_info": {
   "codemirror_mode": {
    "name": "ipython",
    "version": 3
   },
   "file_extension": ".py",
   "mimetype": "text/x-python",
   "name": "python",
   "nbconvert_exporter": "python",
   "pygments_lexer": "ipython3",
   "version": "3.7.3"
  },
  "toc": {
   "base_numbering": 1,
   "nav_menu": {},
   "number_sections": true,
   "sideBar": true,
   "skip_h1_title": true,
   "title_cell": "Table of Contents",
   "title_sidebar": "Contents",
   "toc_cell": false,
   "toc_position": {},
   "toc_section_display": true,
   "toc_window_display": false
  }
 },
 "nbformat": 4,
 "nbformat_minor": 4
}
