{
 "cells": [
  {
   "cell_type": "code",
   "execution_count": 1,
   "metadata": {},
   "outputs": [
    {
     "name": "stdout",
     "output_type": "stream",
     "text": [
      "Loading a dictionary..; @A; #81879;\n"
     ]
    }
   ],
   "source": [
    "dt=EngDict(\"A\")"
   ]
  },
  {
   "cell_type": "code",
   "execution_count": 2,
   "metadata": {},
   "outputs": [
    {
     "data": {
      "text/plain": [
       "'basement: [a]/ˈbeɪsmənt/; [n] [建筑学]地下室;根基; [or]gk;'"
      ]
     },
     "execution_count": 2,
     "metadata": {},
     "output_type": "execute_result"
    }
   ],
   "source": [
    "dt.to_line(\"basement\")"
   ]
  },
  {
   "cell_type": "code",
   "execution_count": 54,
   "metadata": {},
   "outputs": [],
   "source": [
    "def change_subject_label(fpath):\n",
    "    \"\"\"修改科目标签<科>\"\"\"\n",
    "    pat=\"\\[[\\u4e00-\\u9fa5]{1,}\\]\"\n",
    "    with open(fpath,'r',encoding='utf-8') as fp:\n",
    "        string=fp.read()\n",
    "        subject=re.findall(pat,string)\n",
    "\n",
    "    for old in subject:\n",
    "        new=\"<\"+old[1:len(old)-1]+\">\"\n",
    "        string=string.replace(old,new)\n",
    "\n",
    "    fpath2=fpath+\".sub\"\n",
    "    with open(fpath2,'w',encoding='utf-8') as fp2:\n",
    "        fp2.write(string)\n",
    "    print(fpath2.replace('/','\\\\'))"
   ]
  },
  {
   "cell_type": "code",
   "execution_count": 55,
   "metadata": {},
   "outputs": [
    {
     "name": "stdout",
     "output_type": "stream",
     "text": [
      "F:\\Git2\\English\\word\\01_zhongkao_bcz.txt.sub\n",
      "F:\\Git2\\English\\word\\01_zhongkao_bcz.txt.sub.sub\n",
      "F:\\Git2\\English\\word\\02_gaokao_bcz.txt.sub\n",
      "F:\\Git2\\English\\word\\02_gaokao_bcz.txt.sub.sub\n",
      "F:\\Git2\\English\\word\\03_4ji_bcz.txt.sub\n",
      "F:\\Git2\\English\\word\\03_4ji_bcz.txt.sub.sub\n",
      "F:\\Git2\\English\\word\\04_6ji_bcz.txt.sub\n",
      "F:\\Git2\\English\\word\\04_6ji_bcz.txt.sub.sub\n",
      "F:\\Git2\\English\\word\\05_kaoyan_bcz.txt.sub\n",
      "F:\\Git2\\English\\word\\05_kaoyan_bcz.txt.sub.sub\n",
      "F:\\Git2\\English\\word\\06_zhuan4_bcz.txt.sub\n",
      "F:\\Git2\\English\\word\\06_zhuan4_bcz.txt.sub.sub\n",
      "F:\\Git2\\English\\word\\07_zhuan8_bcz.txt.sub\n",
      "F:\\Git2\\English\\word\\07_zhuan8_bcz.txt.sub.sub\n",
      "F:\\Git2\\English\\word\\08_yasihx.bcz.txt.sub\n",
      "F:\\Git2\\English\\word\\08_yasihx.bcz.txt.sub.sub\n",
      "F:\\Git2\\English\\word\\09_tuofu_bcz.txt.sub\n",
      "F:\\Git2\\English\\word\\09_tuofu_bcz.txt.sub.sub\n",
      "F:\\Git2\\English\\word\\11_sat_bcz.txt.sub\n",
      "F:\\Git2\\English\\word\\11_sat_bcz.txt.sub.sub\n",
      "F:\\Git2\\English\\word\\12_gre3k_bcz.txt.sub\n",
      "F:\\Git2\\English\\word\\12_gre3k_bcz.txt.sub.sub\n",
      "F:\\Git2\\English\\word\\13_gmat_bcz.txt.sub\n",
      "F:\\Git2\\English\\word\\13_gmat_bcz.txt.sub.sub\n",
      "F:\\Git2\\English\\word\\14_tuoyehx_bcz.txt.sub\n",
      "F:\\Git2\\English\\word\\14_tuoyehx_bcz.txt.sub.sub\n",
      "F:\\Git2\\English\\word\\else.txt.sub\n",
      "F:\\Git2\\English\\word\\else.txt.sub.sub\n",
      "F:\\Git2\\English\\word\\names.txt.sub\n",
      "F:\\Git2\\English\\word\\names.txt.sub.sub\n",
      "F:\\Git2\\English\\word\\special.txt.sub\n",
      "F:\\Git2\\English\\word\\special.txt.sub.sub\n",
      "F:\\Git2\\English\\word\\toefl_ibt.txt.sub\n",
      "F:\\Git2\\English\\word\\toefl_ibt.txt.sub.sub\n",
      "F:\\Git2\\English\\word\\unix_simplified.txt.sub\n",
      "F:\\Git2\\English\\word\\unix_simplified.txt.sub.sub\n"
     ]
    }
   ],
   "source": [
    "for fpath in os.listdir(WORDLISTS_PATH):\n",
    "    change_subject_label(WORDLISTS_PATH+fpath)"
   ]
  },
  {
   "cell_type": "code",
   "execution_count": 50,
   "metadata": {},
   "outputs": [
    {
     "name": "stdout",
     "output_type": "stream",
     "text": [
      "F:\\Git2\\English\\word\\02_gaokao_bcz.txt.sub\n"
     ]
    }
   ],
   "source": [
    "fpath=\"F:/Git2/English/word/02_gaokao_bcz.txt\"\n"
   ]
  },
  {
   "cell_type": "code",
   "execution_count": 53,
   "metadata": {},
   "outputs": [
    {
     "data": {
      "text/plain": [
       "'<建>'"
      ]
     },
     "execution_count": 53,
     "metadata": {},
     "output_type": "execute_result"
    }
   ],
   "source": [
    "new"
   ]
  },
  {
   "cell_type": "code",
   "execution_count": 21,
   "metadata": {},
   "outputs": [
    {
     "ename": "NameError",
     "evalue": "name 'old' is not defined",
     "output_type": "error",
     "traceback": [
      "\u001b[1;31m---------------------------------------------------------------------------\u001b[0m",
      "\u001b[1;31mNameError\u001b[0m                                 Traceback (most recent call last)",
      "\u001b[1;32m<ipython-input-21-281bac2b7046>\u001b[0m in \u001b[0;36m<module>\u001b[1;34m\u001b[0m\n\u001b[1;32m----> 1\u001b[1;33m \u001b[0mold\u001b[0m\u001b[1;33m\u001b[0m\u001b[1;33m\u001b[0m\u001b[0m\n\u001b[0m",
      "\u001b[1;31mNameError\u001b[0m: name 'old' is not defined"
     ]
    }
   ],
   "source": [
    "old"
   ]
  },
  {
   "cell_type": "code",
   "execution_count": 7,
   "metadata": {
    "scrolled": true
   },
   "outputs": [
    {
     "name": "stdout",
     "output_type": "stream",
     "text": [
      "label: \n",
      "a:/ˈleɪbl/; \n",
      "n:标签;称号;唱片公司; \n",
      "v:把..称为,贴标签于..; \n",
      "or:4j;"
     ]
    }
   ],
   "source": [
    "kk label"
   ]
  }
 ],
 "metadata": {
  "kernelspec": {
   "display_name": "Python 3",
   "language": "python",
   "name": "python3"
  },
  "language_info": {
   "codemirror_mode": {
    "name": "ipython",
    "version": 3
   },
   "file_extension": ".py",
   "mimetype": "text/x-python",
   "name": "python",
   "nbconvert_exporter": "python",
   "pygments_lexer": "ipython3",
   "version": "3.7.3"
  },
  "toc": {
   "base_numbering": 1,
   "nav_menu": {},
   "number_sections": true,
   "sideBar": true,
   "skip_h1_title": true,
   "title_cell": "Table of Contents",
   "title_sidebar": "Contents",
   "toc_cell": false,
   "toc_position": {},
   "toc_section_display": true,
   "toc_window_display": false
  }
 },
 "nbformat": 4,
 "nbformat_minor": 4
}
