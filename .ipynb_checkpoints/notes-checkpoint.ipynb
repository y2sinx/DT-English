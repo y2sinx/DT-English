{
 "cells": [
  {
   "cell_type": "markdown",
   "metadata": {},
   "source": [
    "Put the gun down. % 把枪放下.  \n",
    "You're in in deep shit. % (警告别人)你有大麻烦了.\n",
    "\n",
    "Ebola: [a]/i'bəulə/; [n]埃博拉病毒; [or]bt;\n",
    "fuckwit: [a]/ˈfʌkwɪt/; [n]a fool or idiot;傻子,白痴; [or]bt;\n",
    "disorientating: [a]/dɪsˈɔːrɪənˌteɪt/; [adj]使人迷失方向的;衣服等颜色太亮的; [v]使迷惑;使失去方向感(disorientate的<pr>); [or]bt;\n",
    "freeze-dried: [a]/'fri:zdraid/; [adj]经过冷冻干燥的; [v]使冷冻干燥(freeze-dry的<pp>); [or]bt;\n",
    "tittle-tattle: [a]/ˈtɪtl tætl/; [n]杂谈;闲聊;捕风捉影的事; [vi]漫谈;闲聊;[vt]闲谈;漫谈; [add]pt/tittle-tattled,pp/tittle-tattled,pr/tittle-tattling,; [or]bt;\n",
    "\n",
    "    \n",
    "preferential treatment: 优待\n",
    "get your wish: 如你所愿  \n",
    "make all that right: 使这些都变好起来了\n",
    "PR disaster: 公共关系麻烦\n",
    "make the right decision: 做出正确的决定\n",
    "take five: 休息五分钟\n",
    "mental arithmetic: 心算能力\n",
    "photo copier: 复印机\n",
    "a mug of: 一杯..\n",
    "    "
   ]
  },
  {
   "cell_type": "code",
   "execution_count": 63,
   "metadata": {},
   "outputs": [
    {
     "data": {
      "text/plain": [
       "'hands-on: [a]/ˌhændz ˈɑːn/; [adj]亲身实践的,亲自动手的; [or]bt;'"
      ]
     },
     "execution_count": 63,
     "metadata": {},
     "output_type": "execute_result"
    }
   ],
   "source": [
    "dt "
   ]
  },
  {
   "cell_type": "code",
   "execution_count": 54,
   "metadata": {},
   "outputs": [
    {
     "data": {
      "text/plain": [
       "['Machine',\n",
       " 'Michael',\n",
       " 'Miching',\n",
       " 'Millicent',\n",
       " 'ceilidh',\n",
       " 'ceiling',\n",
       " 'choline',\n",
       " 'elenchi',\n",
       " 'helicline',\n",
       " 'helicon',\n",
       " 'hircine',\n",
       " 'ichnite',\n",
       " 'ichnolite',\n",
       " 'incline',\n",
       " 'lecithin',\n",
       " 'lichen',\n",
       " 'lichenin',\n",
       " 'lichenize',\n",
       " 'lichenoid',\n",
       " 'neolithic']"
      ]
     },
     "execution_count": 54,
     "metadata": {},
     "output_type": "execute_result"
    }
   ],
   "source": [
    "# tt=English_Dictionary().load('')\n",
    "tt.similar('Michelin',ratio=.8)"
   ]
  },
  {
   "cell_type": "code",
   "execution_count": 48,
   "metadata": {},
   "outputs": [
    {
     "name": "stdout",
     "output_type": "stream",
     "text": [
      "Backup: bigtan.txt##proofread.backup!\n",
      "Loading a dictionary...\n",
      "Origin: bigtan.txt; #86504;\n",
      "\n",
      "\n",
      "================= 0,referendum =================\n",
      "<Old> referendum: [a]/ˌrefəˈrendəm/; [n]公民投票,复决权; [add]pl/referendums或referenda; [or]bt;\n",
      "p/[c]: \n",
      "<New> referendum: [a]/ˌrefəˈrendəm/; [n]公民投票(简称公投);复决权; [add]pl/referendums或referenda; [or]bt;\n",
      "\n",
      "Write file: F:/Git2/English/bigtan/bigtan.txt...\n"
     ]
    },
    {
     "data": {
      "text/plain": [
       "'Done and Save!'"
      ]
     },
     "execution_count": 48,
     "metadata": {},
     "output_type": "execute_result"
    }
   ],
   "source": [
    "modify('referendum')"
   ]
  }
 ],
 "metadata": {
  "kernelspec": {
   "display_name": "Python 3",
   "language": "python",
   "name": "python3"
  },
  "language_info": {
   "codemirror_mode": {
    "name": "ipython",
    "version": 3
   },
   "file_extension": ".py",
   "mimetype": "text/x-python",
   "name": "python",
   "nbconvert_exporter": "python",
   "pygments_lexer": "ipython3",
   "version": "3.7.6"
  },
  "toc": {
   "base_numbering": 1,
   "nav_menu": {},
   "number_sections": true,
   "sideBar": true,
   "skip_h1_title": true,
   "title_cell": "Table of Contents",
   "title_sidebar": "Contents",
   "toc_cell": false,
   "toc_position": {},
   "toc_section_display": true,
   "toc_window_display": false
  }
 },
 "nbformat": 4,
 "nbformat_minor": 4
}
