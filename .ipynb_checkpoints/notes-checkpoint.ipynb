{
 "cells": [
  {
   "cell_type": "code",
   "execution_count": 217,
   "metadata": {
    "scrolled": true
   },
   "outputs": [],
   "source": [
    "%%disabled\n",
    "reload2(english)\n",
    "dt=english.EngDict('all')"
   ]
  },
  {
   "cell_type": "markdown",
   "metadata": {},
   "source": [
    "## group_self\n"
   ]
  },
  {
   "cell_type": "markdown",
   "metadata": {},
   "source": [
    "## word_self\n",
    "\n",
    "transfusion: ac./trænsˈfjuːʒn/ n.输血;输液;倾注;灌输\n",
    "\n",
    "\n"
   ]
  },
  {
   "cell_type": "code",
   "execution_count": 235,
   "metadata": {},
   "outputs": [
    {
     "name": "stdout",
     "output_type": "stream",
     "text": [
      "chap: \n",
      "n:男人,家伙; \n",
      "口语:小伙子;皲裂; \n",
      "adj:开裂的; \n",
      "v:皲裂;(皮肤)变粗糙; \n",
      "acc:/tʃæp/; \n",
      "or:4j;\n",
      " --------------------\n",
      "chap: [tʃæp]\n",
      "n. 小伙子;家伙;龟裂\n",
      "vt. 使皲裂\n",
      "vi. 皲裂\n",
      "n. (Chap)人名;(柬)乍\n"
     ]
    }
   ],
   "source": [
    "word = \"chap\" \n",
    "dt.lookup(word)\n",
    "print(\"\\n\",\"-\"*20)\n",
    "youdao(word)"
   ]
  },
  {
   "cell_type": "code",
   "execution_count": null,
   "metadata": {},
   "outputs": [],
   "source": []
  },
  {
   "cell_type": "code",
   "execution_count": null,
   "metadata": {},
   "outputs": [],
   "source": [
    "# dt.match('autistic')\n",
    "# origin('boom')"
   ]
  },
  {
   "cell_type": "code",
   "execution_count": 223,
   "metadata": {},
   "outputs": [
    {
     "name": "stdout",
     "output_type": "stream",
     "text": [
      "chap: \n",
      "n:男人,家伙; \n",
      "口语:小伙子;皲裂; \n",
      "adj:开裂的; \n",
      "v:皲裂;(皮肤)变粗糙; \n",
      "acc:/tʃæp/; \n",
      "or:4j;"
     ]
    }
   ],
   "source": []
  },
  {
   "cell_type": "code",
   "execution_count": 222,
   "metadata": {},
   "outputs": [
    {
     "name": "stdout",
     "output_type": "stream",
     "text": [
      "transfusion: [trænsˈfjuːʒn]\n",
      "n. [临床] 输血;[临床] 输液;倾注;灌输\n"
     ]
    },
    {
     "data": {
      "text/plain": [
       "False"
      ]
     },
     "execution_count": 222,
     "metadata": {},
     "output_type": "execute_result"
    }
   ],
   "source": []
  },
  {
   "cell_type": "code",
   "execution_count": 218,
   "metadata": {},
   "outputs": [],
   "source": [
    "!CODE"
   ]
  }
 ],
 "metadata": {
  "kernelspec": {
   "display_name": "Python 3",
   "language": "python",
   "name": "python3"
  },
  "language_info": {
   "codemirror_mode": {
    "name": "ipython",
    "version": 3
   },
   "file_extension": ".py",
   "mimetype": "text/x-python",
   "name": "python",
   "nbconvert_exporter": "python",
   "pygments_lexer": "ipython3",
   "version": "3.7.3"
  },
  "toc": {
   "base_numbering": 1,
   "nav_menu": {},
   "number_sections": true,
   "sideBar": true,
   "skip_h1_title": true,
   "title_cell": "Table of Contents",
   "title_sidebar": "Contents",
   "toc_cell": false,
   "toc_position": {},
   "toc_section_display": true,
   "toc_window_display": false
  }
 },
 "nbformat": 4,
 "nbformat_minor": 4
}
