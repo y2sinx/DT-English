{
 "cells": [
  {
   "cell_type": "code",
   "execution_count": 6,
   "metadata": {
    "scrolled": true
   },
   "outputs": [
    {
     "name": "stdout",
     "output_type": "stream",
     "text": [
      "Initializing:\n",
      "Number: 70314\n",
      "From: all\n"
     ]
    }
   ],
   "source": [
    "# %%disabled\n",
    "reload2(english)\n",
    "dt=english.EngDict('all')"
   ]
  },
  {
   "cell_type": "code",
   "execution_count": 22,
   "metadata": {},
   "outputs": [
    {
     "name": "stdout",
     "output_type": "stream",
     "text": [
      "trek: \n",
      "n:艰苦跋涉; \n",
      "v:拉(货车),搬运; \n",
      "a:/trek/; \n",
      "or:z8;"
     ]
    }
   ],
   "source": [
    "dt.lookup('trek')"
   ]
  },
  {
   "cell_type": "code",
   "execution_count": null,
   "metadata": {},
   "outputs": [],
   "source": [
    "dt.lookup('landscaper')"
   ]
  },
  {
   "cell_type": "code",
   "execution_count": 30,
   "metadata": {},
   "outputs": [
    {
     "name": "stdout",
     "output_type": "stream",
     "text": [
      "self-centered: [a]/,self'sentəd/; [adj]自我中心的;利己主义的; [add];\n"
     ]
    }
   ],
   "source": [
    "youdao_self('self-centered')"
   ]
  },
  {
   "cell_type": "markdown",
   "metadata": {},
   "source": [
    "landscaper: [a]/'lænd,skeɪpə/; [n]庭园设计家;\n",
    "\n",
    "self-centered: [a]/,self'sentəd/; [adj]自我中心的;利己主义的;\n",
    "\n",
    "all-around: [a]/ˌɔːl əˈraʊnd/; [adj]全面的;综合性的;360°无死角的;\n",
    "\n",
    "forgiveness: [a]/fəˈɡɪvnəs/; [n]宽恕;宽仁之心; [add];\n",
    "\n",
    "bleep: [a]/bliːp/; [n]哔哔声;传呼机; [v]发出哔哔声;给..打传呼;(新闻审查时)用嘟嘟声抹去; [add]过去式/bleeped,过去分词/bleeped,现在分词/bleeping,第三人称单数/bleeps;\n",
    "\n",
    "nerd: [a]/nɜːd/; [n]呆子;书呆子;讨厌的人;\n",
    "\n",
    "ninja: [a]/ˈnɪndʒə/;[n]忍者;  \n",
    "telly: [a]/ˈteli/; [n]电视; [add]复数/tellies;\n",
    "\n",
    "fella: [a]/ˈfelə(r)/; [n]伙伴,伙计;小伙子;\n",
    "\n",
    "self-conscious: [a]/ˌselfˈkɒnʃəs/; [adj]难为情的; [adj]自觉的;\n",
    "\n",
    "frisson: [a]/friːˈsɔːn/; [n](法)颤抖;战栗; [add]复数/frissons;  "
   ]
  },
  {
   "cell_type": "code",
   "execution_count": 32,
   "metadata": {},
   "outputs": [],
   "source": [
    "from nltk import *"
   ]
  },
  {
   "cell_type": "code",
   "execution_count": null,
   "metadata": {},
   "outputs": [],
   "source": [
    "wds=corpus.words.words()\n",
    "type(wds)"
   ]
  },
  {
   "cell_type": "code",
   "execution_count": 41,
   "metadata": {},
   "outputs": [
    {
     "data": {
      "text/plain": [
       "104003"
      ]
     },
     "execution_count": 41,
     "metadata": {},
     "output_type": "execute_result"
    }
   ],
   "source": [
    "wds.index('land')"
   ]
  }
 ],
 "metadata": {
  "kernelspec": {
   "display_name": "Python 3",
   "language": "python",
   "name": "python3"
  },
  "language_info": {
   "codemirror_mode": {
    "name": "ipython",
    "version": 3
   },
   "file_extension": ".py",
   "mimetype": "text/x-python",
   "name": "python",
   "nbconvert_exporter": "python",
   "pygments_lexer": "ipython3",
   "version": "3.7.3"
  },
  "toc": {
   "base_numbering": 1,
   "nav_menu": {},
   "number_sections": true,
   "sideBar": true,
   "skip_h1_title": true,
   "title_cell": "Table of Contents",
   "title_sidebar": "Contents",
   "toc_cell": false,
   "toc_position": {},
   "toc_section_display": true,
   "toc_window_display": false
  }
 },
 "nbformat": 4,
 "nbformat_minor": 4
}
