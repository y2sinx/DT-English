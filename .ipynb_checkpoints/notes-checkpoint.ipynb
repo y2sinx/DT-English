{
 "cells": [
  {
   "cell_type": "code",
   "execution_count": 189,
   "metadata": {
    "scrolled": true
   },
   "outputs": [
    {
     "name": "stdout",
     "output_type": "stream",
     "text": [
      "Initializing:\n",
      "Number: 15259\n",
      "From: all\n"
     ]
    }
   ],
   "source": [
    "# %%disabled\n",
    "reload2(english)\n",
    "dt=english.EngDict('all')"
   ]
  },
  {
   "cell_type": "markdown",
   "metadata": {},
   "source": [
    "##sentence_self\n",
    "Please,come in. % 请进\n",
    "\n",
    "##group_self\n",
    "black out: 昏过去\n",
    "live in the now: 活在当下\n",
    "be under arrest: 被捕\n",
    "promised land: 应许之地,乐土\n",
    "Lake Baikal: 贝加尔湖\n",
    "slot machine: 老虎机\n",
    "Soviet Union: 苏联(苏维尔联盟)\n",
    "\n",
    "##word_self\n",
    "autistic: adj.患有自闭症的\n",
    "brainwashing: 洗脑\n",
    "mafia: 黑手党\n",
    "permafrost: 永冻层\n",
    "Siberia: 西伯利亚\n",
    "revitalise: 重振\n",
    "reindeer: 驯鹿\n",
    "snatorium: [ac]/ˌsænəˈtɔːriəm/; [n]疗养院;\n",
    "cheeky: [ac]/ˈtʃiːki/; [adj]厚脸皮的,无耻的;"
   ]
  },
  {
   "cell_type": "code",
   "execution_count": 205,
   "metadata": {
    "scrolled": true
   },
   "outputs": [
    {
     "name": "stdout",
     "output_type": "stream",
     "text": [
      "I\n",
      "a\n",
      "be\n",
      "but\n",
      "by\n",
      "from\n",
      "grey\n",
      "of\n",
      "when\n",
      "where\n",
      "who\n",
      "with\n"
     ]
    }
   ],
   "source": []
  },
  {
   "cell_type": "code",
   "execution_count": null,
   "metadata": {},
   "outputs": [],
   "source": []
  },
  {
   "cell_type": "code",
   "execution_count": 168,
   "metadata": {},
   "outputs": [],
   "source": [
    "a"
   ]
  },
  {
   "cell_type": "code",
   "execution_count": 214,
   "metadata": {},
   "outputs": [
    {
     "name": "stdout",
     "output_type": "stream",
     "text": [
      "linen: \n",
      "n:亚麻桌布;亚麻布; \n",
      "acc:/ˈlɪnɪn/; \n",
      "or:6j;"
     ]
    }
   ],
   "source": [
    "# youdao('cheeky')\n",
    "# dt.match('autistic')\n",
    "dt.lookup('linen')\n",
    "# origin('boom')"
   ]
  }
 ],
 "metadata": {
  "kernelspec": {
   "display_name": "Python 3",
   "language": "python",
   "name": "python3"
  },
  "language_info": {
   "codemirror_mode": {
    "name": "ipython",
    "version": 3
   },
   "file_extension": ".py",
   "mimetype": "text/x-python",
   "name": "python",
   "nbconvert_exporter": "python",
   "pygments_lexer": "ipython3",
   "version": "3.7.3"
  },
  "toc": {
   "base_numbering": 1,
   "nav_menu": {},
   "number_sections": true,
   "sideBar": true,
   "skip_h1_title": true,
   "title_cell": "Table of Contents",
   "title_sidebar": "Contents",
   "toc_cell": false,
   "toc_position": {},
   "toc_section_display": true,
   "toc_window_display": false
  }
 },
 "nbformat": 4,
 "nbformat_minor": 4
}
