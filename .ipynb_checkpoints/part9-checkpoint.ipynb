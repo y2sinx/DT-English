{
 "cells": [
  {
   "cell_type": "code",
   "execution_count": null,
   "metadata": {},
   "outputs": [],
   "source": []
  },
  {
   "cell_type": "code",
   "execution_count": 3,
   "metadata": {},
   "outputs": [],
   "source": [
    "# F:/Git2/English/test/unix_youdao.py\n",
    "import requests\n",
    "from bs4 import BeautifulSoupreturn\n",
    "\n",
    "def youdao_unix(word):    \n",
    "    try:\n",
    "        url_yd = \"http://dict.youdao.com/w/%s/#keyfrom=dict2.top\" % word\n",
    "        r = requests.get(url=url_yd)\n",
    "\n",
    "        url_yd = \"http://dict.youdao.com/w/%s/#keyfrom=dict2.top\" % word\n",
    "        r = requests.get(url=url_yd)\n",
    "        # 利用BeautifulSoup将获取到的文本解析成HTML\n",
    "        soup = BeautifulSoup(r.text, \"lxml\")\n",
    "        # 获取字典的标签内容\n",
    "        s = soup.find(class_=\"trans-container\")(\"ul\")[0](\"li\")\n",
    "        additional = soup.find(class_=\"additional\").get_text()\n",
    "        phonetic = soup.find(class_=\"phonetic\").get_text()\n",
    "        phonetic = '[a]'+'/'+phonetic[1:len(phonetic)-1]+'/;'\n",
    "        additional=additional.replace('\\n','/').replace(' ','')\n",
    "        additional = additional.strip('[').strip(']').strip('/').split('/')\n",
    "        add1=additional[0::2]\n",
    "        add2=additional[1::2]\n",
    "\n",
    "        add = '[add]'\n",
    "        for i,j in zip(add1,add2):\n",
    "            add = add+i+'/'+j+','\n",
    "\n",
    "        meanings = ''\n",
    "        for item in s:\n",
    "            if item.text:\n",
    "                meanings = meanings+biaodian(item.text)+'; '\n",
    "        meanings = meanings.replace('n. ','[n]').replace('v. ','[v]').replace('adj. ','[adj]').replace('adv. ','[adv]')\n",
    "\n",
    "        return \"{}: {} {}{}\".format(word,phonetic,meanings,add+';')\n",
    "    except Exception:\n",
    "        return \"{}: [x];\".format(word)"
   ]
  },
  {
   "cell_type": "code",
   "execution_count": 120,
   "metadata": {},
   "outputs": [
    {
     "name": "stdout",
     "output_type": "stream",
     "text": [
      "Initializing:\n",
      "Number: 218707\n",
      "From: F:/Git2/English/test/unix_bz.txt\n",
      "1 0.1 baahling\n",
      "2 0.2 Baal\n",
      "3 0.3 baal\n",
      "4 0.4 Baalath\n",
      "5 0.5 Baalish\n",
      "6 0.6 Baalism\n",
      "7 0.7 Baalist\n",
      "8 0.8 Baalite\n",
      "9 0.9 Baalitical\n",
      "10 1.0 Baalize\n"
     ]
    }
   ],
   "source": [
    "unix_bz=EngDict('F:/Git2/English/test/unix_bz.txt')\n",
    "len_unix_bz = len(unix_bz.words)\n",
    "wds = np.array(unix_bz.words).reshape(37,5911).T\n",
    "# unix_1,unix2,...,unix_36\n",
    "for i in range(0,37):\n",
    "    fn='unix_'+str(i)\n",
    "    wd=wds[:,i]\n",
    "    exec(\"{}={}\".format(fn,'wd'))\n",
    "\n",
    "#################################################\n",
    "unix_x=unix_0\n",
    "fn='F:/Git2/English/test/{}.txt'.format('unix_0')\n",
    "#################################################\n",
    "\n",
    "len_unix_x=len(unix_x)\n",
    "with open(fn,mode='w',encoding='utf-8') as unixfn: \n",
    "    for i,word in enumerate(unix_x):\n",
    "        num=i+1\n",
    "        line = youdao_unix(word) +'\\n' \n",
    "        unixfn.write(line)\n",
    "        print(num,round(num/len_unix_x,3),word)"
   ]
  },
  {
   "cell_type": "code",
   "execution_count": null,
   "metadata": {},
   "outputs": [],
   "source": []
  }
 ],
 "metadata": {
  "kernelspec": {
   "display_name": "Python 3",
   "language": "python",
   "name": "python3"
  },
  "language_info": {
   "codemirror_mode": {
    "name": "ipython",
    "version": 3
   },
   "file_extension": ".py",
   "mimetype": "text/x-python",
   "name": "python",
   "nbconvert_exporter": "python",
   "pygments_lexer": "ipython3",
   "version": "3.7.3"
  }
 },
 "nbformat": 4,
 "nbformat_minor": 4
}
