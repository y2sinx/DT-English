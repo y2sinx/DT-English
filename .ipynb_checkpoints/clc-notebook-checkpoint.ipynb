{
 "cells": [
  {
   "cell_type": "code",
   "execution_count": 151,
   "metadata": {},
   "outputs": [
    {
     "name": "stdout",
     "output_type": "stream",
     "text": [
      "consonant: [a]/ˈkɑːnsənənt/; [adj]辅音的;一致的,和谐的; [n]辅音;辅音字母; [or]z4;\n"
     ]
    }
   ],
   "source": [
    "%dt consonant"
   ]
  },
  {
   "cell_type": "markdown",
   "metadata": {},
   "source": [
    "drill: [a]/drɪl/; [n]训练;反复操练;\n",
    "vowel: [a]/ˈvaʊəl/; [n]元音;\n",
    "consonant: [a]/ˈkɑːnsənənt/; [n]辅音;\n"
   ]
  },
  {
   "cell_type": "code",
   "execution_count": 159,
   "metadata": {},
   "outputs": [
    {
     "name": "stdout",
     "output_type": "stream",
     "text": [
      "prodigal: [a]/ˈprɑːdɪɡl/; [adj]挥霍的,十分慷慨的; [n]浪子,挥霍者; [or]z8;\n"
     ]
    }
   ],
   "source": [
    "%dt prodigal"
   ]
  }
 ],
 "metadata": {
  "kernelspec": {
   "display_name": "Python 3",
   "language": "python",
   "name": "python3"
  },
  "language_info": {
   "codemirror_mode": {
    "name": "ipython",
    "version": 3
   },
   "file_extension": ".py",
   "mimetype": "text/x-python",
   "name": "python",
   "nbconvert_exporter": "python",
   "pygments_lexer": "ipython3",
   "version": "3.7.3"
  },
  "toc": {
   "base_numbering": 1,
   "nav_menu": {},
   "number_sections": true,
   "sideBar": true,
   "skip_h1_title": true,
   "title_cell": "Table of Contents",
   "title_sidebar": "Contents",
   "toc_cell": false,
   "toc_position": {},
   "toc_section_display": true,
   "toc_window_display": false
  }
 },
 "nbformat": 4,
 "nbformat_minor": 4
}
