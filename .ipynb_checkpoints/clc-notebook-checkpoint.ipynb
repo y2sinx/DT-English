{
 "cells": [
  {
   "cell_type": "code",
   "execution_count": 29,
   "metadata": {},
   "outputs": [
    {
     "data": {
      "text/plain": [
       "'special.txt'"
      ]
     },
     "execution_count": 29,
     "metadata": {},
     "output_type": "execute_result"
    }
   ],
   "source": [
    "sort_lines('special.txt')"
   ]
  },
  {
   "cell_type": "code",
   "execution_count": 22,
   "metadata": {},
   "outputs": [
    {
     "name": "stdout",
     "output_type": "stream",
     "text": [
      "F:\\Git2\\English\\word\n"
     ]
    }
   ],
   "source": [
    "cd word\n"
   ]
  },
  {
   "cell_type": "code",
   "execution_count": 23,
   "metadata": {},
   "outputs": [
    {
     "name": "stdout",
     "output_type": "stream",
     "text": [
      "Loading a dictionary..; @special.txt; #13456;\n",
      "Loading a dictionary..; @special-2.txt; #254;\n"
     ]
    }
   ],
   "source": [
    "spe=English_Dictionary().load('special.txt')\n",
    "spe2=English_Dictionary().load('special-2.txt')"
   ]
  },
  {
   "cell_type": "code",
   "execution_count": 24,
   "metadata": {},
   "outputs": [],
   "source": [
    "spe.edt.update(spe2.edt)"
   ]
  },
  {
   "cell_type": "code",
   "execution_count": 26,
   "metadata": {},
   "outputs": [
    {
     "data": {
      "text/plain": [
       "'special.txt'"
      ]
     },
     "execution_count": 26,
     "metadata": {},
     "output_type": "execute_result"
    }
   ],
   "source": [
    "spe.to_txt('special.txt')"
   ]
  },
  {
   "cell_type": "code",
   "execution_count": null,
   "metadata": {},
   "outputs": [],
   "source": [
    "import  tkinter \n",
    "ytm=tkinter.Tk()"
   ]
  },
  {
   "cell_type": "code",
   "execution_count": 6,
   "metadata": {},
   "outputs": [
    {
     "name": "stdout",
     "output_type": "stream",
     "text": [
      "after              |after_cancel           |after_idle                |\n",
      "anchor             |aspect                 |attributes                |\n",
      "bbox               |bell                   |bind                      |\n",
      "bind_all           |bind_class             |bindtags                  |\n",
      "cget               |children               |client                    |\n",
      "clipboard_append   |clipboard_clear        |clipboard_get             |\n",
      "colormapwindows    |columnconfigure        |command                   |\n",
      "config             |configure              |deiconify                 |\n",
      "deletecommand      |destroy                |event_add                 |\n",
      "event_delete       |event_generate         |event_info                |\n",
      "focus              |focus_displayof        |focus_force               |\n",
      "focus_get          |focus_lastfor          |focus_set                 |\n",
      "focusmodel         |forget                 |frame                     |\n",
      "geometry           |getboolean             |getdouble                 |\n",
      "getint             |getvar                 |grab_current              |\n",
      "grab_release       |grab_set               |grab_set_global           |\n",
      "grab_status        |grid                   |grid_anchor               |\n",
      "grid_bbox          |grid_columnconfigure   |grid_location             |\n",
      "grid_propagate     |grid_rowconfigure      |grid_size                 |\n",
      "grid_slaves        |group                  |iconbitmap                |\n",
      "iconify            |iconmask               |iconname                  |\n",
      "iconphoto          |iconposition           |iconwindow                |\n",
      "image_names        |image_types            |keys                      |\n",
      "lift               |loadtk                 |lower                     |\n",
      "mainloop           |manage                 |master                    |\n",
      "maxsize            |minsize                |nametowidget              |\n",
      "option_add         |option_clear           |option_get                |\n",
      "option_readfile    |overrideredirect       |pack_propagate            |\n",
      "pack_slaves        |place_slaves           |positionfrom              |\n",
      "propagate          |protocol               |quit                      |\n",
      "readprofile        |register               |report_callback_exception |\n",
      "resizable          |rowconfigure           |selection_clear           |\n",
      "selection_get      |selection_handle       |selection_own             |\n",
      "selection_own_get  |send                   |setvar                    |\n",
      "size               |sizefrom               |slaves                    |\n",
      "state              |title                  |tk                        |\n",
      "tk_bisque          |tk_focusFollowsMouse   |tk_focusNext              |\n",
      "tk_focusPrev       |tk_setPalette          |tk_strictMotif            |\n",
      "tkraise            |transient              |unbind                    |\n",
      "unbind_all         |unbind_class           |update                    |\n",
      "update_idletasks   |wait_variable          |wait_visibility           |\n",
      "wait_window        |waitvar                |winfo_atom                |\n",
      "winfo_atomname     |winfo_cells            |winfo_children            |\n",
      "winfo_class        |winfo_colormapfull     |winfo_containing          |\n",
      "winfo_depth        |winfo_exists           |winfo_fpixels             |\n",
      "winfo_geometry     |winfo_height           |winfo_id                  |\n",
      "winfo_interps      |winfo_ismapped         |winfo_manager             |\n",
      "winfo_name         |winfo_parent           |winfo_pathname            |\n",
      "winfo_pixels       |winfo_pointerx         |winfo_pointerxy           |\n",
      "winfo_pointery     |winfo_reqheight        |winfo_reqwidth            |\n",
      "winfo_rgb          |winfo_rootx            |winfo_rooty               |\n",
      "winfo_screen       |winfo_screencells      |winfo_screendepth         |\n",
      "winfo_screenheight |winfo_screenmmheight   |winfo_screenmmwidth       |\n",
      "winfo_screenvisual |winfo_screenwidth      |winfo_server              |\n",
      "winfo_toplevel     |winfo_viewable         |winfo_visual              |\n",
      "winfo_visualid     |winfo_visualsavailable |winfo_vrootheight         |\n",
      "winfo_vrootwidth   |winfo_vrootx           |winfo_vrooty              |\n",
      "winfo_width        |winfo_x                |winfo_y                   |\n",
      "withdraw           |wm_aspect              |wm_attributes             |\n",
      "wm_client          |wm_colormapwindows     |wm_command                |\n",
      "wm_deiconify       |wm_focusmodel          |wm_forget                 |\n",
      "wm_frame           |wm_geometry            |wm_grid                   |\n",
      "wm_group           |wm_iconbitmap          |wm_iconify                |\n",
      "wm_iconmask        |wm_iconname            |wm_iconphoto              |\n",
      "wm_iconposition    |wm_iconwindow          |wm_manage                 |\n",
      "wm_maxsize         |wm_minsize             |wm_overrideredirect       |\n",
      "wm_positionfrom    |wm_protocol            |wm_resizable              |\n",
      "wm_sizefrom        |wm_state               |wm_title                  |\n",
      "wm_transient       |wm_withdraw            |"
     ]
    },
    {
     "data": {
      "text/plain": [
       "'206'"
      ]
     },
     "execution_count": 6,
     "metadata": {},
     "output_type": "execute_result"
    }
   ],
   "source": [
    "col 3 dir2(ytm)"
   ]
  },
  {
   "cell_type": "code",
   "execution_count": null,
   "metadata": {},
   "outputs": [],
   "source": [
    "ytm.title(\"old: {}\".format(line))"
   ]
  },
  {
   "cell_type": "code",
   "execution_count": 13,
   "metadata": {},
   "outputs": [
    {
     "data": {
      "text/plain": [
       "''"
      ]
     },
     "execution_count": 13,
     "metadata": {},
     "output_type": "execute_result"
    }
   ],
   "source": [
    "ytm.geometry(\"800x80\") "
   ]
  },
  {
   "cell_type": "code",
   "execution_count": 14,
   "metadata": {},
   "outputs": [],
   "source": [
    "lab=tkinter.Label(ytm,text=\"用户名\") #标签"
   ]
  },
  {
   "cell_type": "code",
   "execution_count": 15,
   "metadata": {},
   "outputs": [],
   "source": [
    "lab.pack() #指定包管理器放置组件"
   ]
  },
  {
   "cell_type": "code",
   "execution_count": 16,
   "metadata": {},
   "outputs": [],
   "source": [
    "user_text=tkinter.Entry() #创建文本框"
   ]
  },
  {
   "cell_type": "code",
   "execution_count": 17,
   "metadata": {},
   "outputs": [],
   "source": [
    "user_text.pack()"
   ]
  },
  {
   "cell_type": "code",
   "execution_count": 19,
   "metadata": {},
   "outputs": [],
   "source": [
    "def getuser():\n",
    "    user=user_text.get() #获取文本框内容\n",
    "    print(user)"
   ]
  },
  {
   "cell_type": "code",
   "execution_count": 20,
   "metadata": {},
   "outputs": [],
   "source": [
    "tkinter.Button(ytm,text=\"登录\",command=getuser).pack() #command绑定获取文本框内容方法\n",
    "ytm.mainloop() #进入主循环"
   ]
  },
  {
   "cell_type": "code",
   "execution_count": null,
   "metadata": {},
   "outputs": [],
   "source": []
  }
 ],
 "metadata": {
  "kernelspec": {
   "display_name": "Python 3",
   "language": "python",
   "name": "python3"
  },
  "language_info": {
   "codemirror_mode": {
    "name": "ipython",
    "version": 3
   },
   "file_extension": ".py",
   "mimetype": "text/x-python",
   "name": "python",
   "nbconvert_exporter": "python",
   "pygments_lexer": "ipython3",
   "version": "3.7.3"
  },
  "toc": {
   "base_numbering": 1,
   "nav_menu": {},
   "number_sections": true,
   "sideBar": true,
   "skip_h1_title": true,
   "title_cell": "Table of Contents",
   "title_sidebar": "Contents",
   "toc_cell": false,
   "toc_position": {},
   "toc_section_display": true,
   "toc_window_display": false
  }
 },
 "nbformat": 4,
 "nbformat_minor": 4
}
