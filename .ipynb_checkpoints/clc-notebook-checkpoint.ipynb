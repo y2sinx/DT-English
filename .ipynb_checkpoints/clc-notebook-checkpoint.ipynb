{
 "cells": [
  {
   "cell_type": "code",
   "execution_count": null,
   "metadata": {},
   "outputs": [],
   "source": [
    "contents  \n",
    "introduction  \n",
    "the barber  \n",
    "the refusal  \n",
    "a hopeless case  \n",
    "the greenhorn  \n",
    "old mr. match  \n",
    "thoughts unstrung  \n",
    "the miser  \n",
    "dr. key's answer  \n",
    "the chase  \n",
    "a rising doctor  \n",
    "the sailor bold  \n",
    "overheard in the corn-field  \n",
    "twins  \n",
    "a sharp lover  \n",
    "the greedy little pitchers  \n",
    "obliging mr. Hammer  \n",
    "the malicious brush  \n",
    "the wise pen  \n"
   ]
  }
 ],
 "metadata": {
  "kernelspec": {
   "display_name": "Python 3",
   "language": "python",
   "name": "python3"
  },
  "language_info": {
   "codemirror_mode": {
    "name": "ipython",
    "version": 3
   },
   "file_extension": ".py",
   "mimetype": "text/x-python",
   "name": "python",
   "nbconvert_exporter": "python",
   "pygments_lexer": "ipython3",
   "version": "3.7.3"
  },
  "toc": {
   "base_numbering": 1,
   "nav_menu": {},
   "number_sections": true,
   "sideBar": true,
   "skip_h1_title": true,
   "title_cell": "Table of Contents",
   "title_sidebar": "Contents",
   "toc_cell": false,
   "toc_position": {},
   "toc_section_display": true,
   "toc_window_display": false
  }
 },
 "nbformat": 4,
 "nbformat_minor": 4
}
