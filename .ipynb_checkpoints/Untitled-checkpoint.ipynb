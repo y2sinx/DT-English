{
 "cells": [
  {
   "cell_type": "code",
   "execution_count": 83,
   "metadata": {},
   "outputs": [],
   "source": [
    "def sort_lines(path='F://Git2/English/my_words.txt',path2='F://Git2/English/my_words_sorted.txt'):\n",
    "    \"\"\"将一个单词文件按字母顺序排序\"\"\"\n",
    "    with open(path,encoding='utf-8') as file:\n",
    "        lines = file.readlines()\n",
    "        sorted_lines =  sorted(set(lines))\n",
    "\n",
    "        with open(path2,'w',encoding='utf-8') as file2:\n",
    "            for line in sorted_lines:\n",
    "                if line[0].isalpha(): \n",
    "                    file2.write(line)"
   ]
  },
  {
   "cell_type": "code",
   "execution_count": 84,
   "metadata": {},
   "outputs": [],
   "source": [
    "def search_line():\n",
    "    "
   ]
  },
  {
   "cell_type": "markdown",
   "metadata": {},
   "source": [
    "在文件中匹配单词"
   ]
  },
  {
   "cell_type": "code",
   "execution_count": 80,
   "metadata": {},
   "outputs": [],
   "source": [
    "with open(path,encoding='utf-8') as file:\n",
    "    words = file.readlines()\n",
    "    for word in words\n",
    "return filter(wordlist.word,pat)"
   ]
  }
 ],
 "metadata": {
  "kernelspec": {
   "display_name": "Python 3",
   "language": "python",
   "name": "python3"
  },
  "language_info": {
   "codemirror_mode": {
    "name": "ipython",
    "version": 3
   },
   "file_extension": ".py",
   "mimetype": "text/x-python",
   "name": "python",
   "nbconvert_exporter": "python",
   "pygments_lexer": "ipython3",
   "version": "3.7.3"
  },
  "toc": {
   "base_numbering": 1,
   "nav_menu": {},
   "number_sections": true,
   "sideBar": true,
   "skip_h1_title": true,
   "title_cell": "Table of Contents",
   "title_sidebar": "Contents",
   "toc_cell": false,
   "toc_position": {
    "height": "calc(100% - 180px)",
    "left": "10px",
    "top": "150px",
    "width": "165px"
   },
   "toc_section_display": true,
   "toc_window_display": false
  }
 },
 "nbformat": 4,
 "nbformat_minor": 2
}
