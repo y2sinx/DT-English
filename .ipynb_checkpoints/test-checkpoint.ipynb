{
 "cells": [
  {
   "cell_type": "code",
   "execution_count": 159,
   "metadata": {},
   "outputs": [
    {
     "data": {
      "text/plain": [
       "'foregone: [a]/ˈfɔːrɡɔːn/; [adj]预料中的,预先的,过去的; [or]bt;'"
      ]
     },
     "execution_count": 159,
     "metadata": {},
     "output_type": "execute_result"
    }
   ],
   "source": []
  },
  {
   "cell_type": "markdown",
   "metadata": {},
   "source": [
    "preferential treatment: 优待"
   ]
  },
  {
   "cell_type": "code",
   "execution_count": 154,
   "metadata": {},
   "outputs": [
    {
     "name": "stdout",
     "output_type": "stream",
     "text": [
      "Backup: bigtan.txt##proofread.backup!\n",
      "Loading a dictionary...\n",
      "Origin: bigtan.txt; #86495;\n",
      "\n",
      "\n",
      "=================== 0,disown ===================\n",
      "<Old> disown: [a]/dɪsˈoʊn/; [v]否认;声明同.脱离关系; [add]pt/disowned,pp/disowned,pr/disowning,s3/disowns; [or]bt;\n",
      "p/[c]: \n",
      "<New> disown: [a]/dɪsˈoʊn/; [v]否认;声明同..断绝关系; [add]pt/disowned,pp/disowned,pr/disowning,s3/disowns; [or]bt;\n",
      "\n",
      "Write file: F:/Git2/English/bigtan/bigtan.txt...\n"
     ]
    },
    {
     "data": {
      "text/plain": [
       "'Done and Save!'"
      ]
     },
     "execution_count": 154,
     "metadata": {},
     "output_type": "execute_result"
    }
   ],
   "source": [
    "modify('disown')"
   ]
  }
 ],
 "metadata": {
  "kernelspec": {
   "display_name": "Python 3",
   "language": "python",
   "name": "python3"
  },
  "language_info": {
   "codemirror_mode": {
    "name": "ipython",
    "version": 3
   },
   "file_extension": ".py",
   "mimetype": "text/x-python",
   "name": "python",
   "nbconvert_exporter": "python",
   "pygments_lexer": "ipython3",
   "version": "3.7.6"
  },
  "toc": {
   "base_numbering": 1,
   "nav_menu": {},
   "number_sections": true,
   "sideBar": true,
   "skip_h1_title": true,
   "title_cell": "Table of Contents",
   "title_sidebar": "Contents",
   "toc_cell": false,
   "toc_position": {},
   "toc_section_display": true,
   "toc_window_display": false
  }
 },
 "nbformat": 4,
 "nbformat_minor": 4
}
