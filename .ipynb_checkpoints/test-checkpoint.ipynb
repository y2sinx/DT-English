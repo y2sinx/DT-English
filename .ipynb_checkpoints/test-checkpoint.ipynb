{
 "cells": [
  {
   "cell_type": "markdown",
   "metadata": {},
   "source": [
    "Weymouth: [a]/'weiməθ/; [n]韦茅斯(英国港口名); [add]; [or]yd;\n",
    "recurrence to the past: 重蹈覆辙\n",
    "doth: [a]/dʌθ/; [v]动词 do 的老式第三人称单数形式; [add]; [or]yd;\n",
    "Knightley himself: 奈特利本人\n"
   ]
  },
  {
   "cell_type": "code",
   "execution_count": 260,
   "metadata": {
    "scrolled": true
   },
   "outputs": [
    {
     "data": {
      "text/plain": [
       "'matrimony: [a]/ˈmætrɪmoʊni/; [n]结婚;婚姻; [add]pl/matrimonies; [or]bt;'"
      ]
     },
     "execution_count": 260,
     "metadata": {},
     "output_type": "execute_result"
    }
   ],
   "source": [
    "%dt \n",
    "# search('冒泡')\n",
    "# modify('drifter')\n",
    "# tt.similar('revisite')"
   ]
  }
 ],
 "metadata": {
  "kernelspec": {
   "display_name": "Python 3",
   "language": "python",
   "name": "python3"
  },
  "language_info": {
   "codemirror_mode": {
    "name": "ipython",
    "version": 3
   },
   "file_extension": ".py",
   "mimetype": "text/x-python",
   "name": "python",
   "nbconvert_exporter": "python",
   "pygments_lexer": "ipython3",
   "version": "3.7.6"
  },
  "toc": {
   "base_numbering": 1,
   "nav_menu": {},
   "number_sections": true,
   "sideBar": true,
   "skip_h1_title": true,
   "title_cell": "Table of Contents",
   "title_sidebar": "Contents",
   "toc_cell": false,
   "toc_position": {},
   "toc_section_display": true,
   "toc_window_display": false
  }
 },
 "nbformat": 4,
 "nbformat_minor": 4
}
