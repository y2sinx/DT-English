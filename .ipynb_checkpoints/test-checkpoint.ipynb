{
 "cells": [
  {
   "cell_type": "code",
   "execution_count": 4,
   "metadata": {},
   "outputs": [
    {
     "name": "stdout",
     "output_type": "stream",
     "text": [
      "^^^^^^^^^!kk0:start>^^^^^^^^^^\n"
     ]
    }
   ],
   "source": [
    "mark 0"
   ]
  },
  {
   "cell_type": "code",
   "execution_count": 2,
   "metadata": {},
   "outputs": [
    {
     "name": "stdout",
     "output_type": "stream",
     "text": [
      "Loading a dictionary...\n",
      "Origin: bigtan.txt; #86519;\n",
      "\n",
      "Loading a dictionary...\n",
      "Origin: bigtan_phrase.txt; #3977;\n",
      "\n"
     ]
    }
   ],
   "source": [
    "# %%disabled\n",
    "wrd=English_Dictionary().load('F:/Git2/English/bigtan/bigtan.txt')\n",
    "phr=English_Dictionary().load('F:/Git2/English/phrase/bigtan_phrase.txt')"
   ]
  },
  {
   "cell_type": "code",
   "execution_count": 168,
   "metadata": {},
   "outputs": [
    {
     "data": {
      "text/plain": [
       "'lark: [a]/lɑːk/; [n]云雀,玩笑,嬉耍; [v]嬉耍,玩乐; [add]pl/larks,pt/larked,pp/larked,pr/larking,s3/larks; [or]bt;'"
      ]
     },
     "execution_count": 168,
     "metadata": {},
     "output_type": "execute_result"
    }
   ],
   "source": [
    "%dt lark\n",
    "# search(\"百灵鸟\")\n",
    "# modify('')\n",
    "# ydtrans('curtsy')\n",
    "# wrd.similar('cloke')"
   ]
  }
 ],
 "metadata": {
  "kernelspec": {
   "display_name": "Python 3",
   "language": "python",
   "name": "python3"
  },
  "language_info": {
   "codemirror_mode": {
    "name": "ipython",
    "version": 3
   },
   "file_extension": ".py",
   "mimetype": "text/x-python",
   "name": "python",
   "nbconvert_exporter": "python",
   "pygments_lexer": "ipython3",
   "version": "3.7.6"
  },
  "toc": {
   "base_numbering": 1,
   "nav_menu": {},
   "number_sections": true,
   "sideBar": true,
   "skip_h1_title": true,
   "title_cell": "Table of Contents",
   "title_sidebar": "Contents",
   "toc_cell": false,
   "toc_position": {},
   "toc_section_display": true,
   "toc_window_display": false
  }
 },
 "nbformat": 4,
 "nbformat_minor": 4
}
