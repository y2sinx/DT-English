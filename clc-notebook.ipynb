{
 "cells": [
  {
   "cell_type": "code",
   "execution_count": 277,
   "metadata": {},
   "outputs": [
    {
     "name": "stdout",
     "output_type": "stream",
     "text": [
      "Loading a dictionary..; @F:/Git2/English/spoken/; #2075;\n"
     ]
    }
   ],
   "source": [
    "spk=English_Dictionary().load('a',flag=\"spoken\")"
   ]
  },
  {
   "cell_type": "markdown",
   "metadata": {},
   "source": [
    "breeding ground: 温床  \n"
   ]
  },
  {
   "cell_type": "code",
   "execution_count": 5,
   "metadata": {
    "scrolled": false
   },
   "outputs": [
    {
     "name": "stdout",
     "output_type": "stream",
     "text": [
      "89\n",
      "90\n",
      "91\n",
      "92\n",
      "93\n",
      "94\n",
      "95\n",
      "96\n",
      "97\n",
      "98\n",
      "99\n",
      "100\n",
      "101\n",
      "102\n",
      "103\n",
      "104\n",
      "105\n",
      "106\n",
      "107\n",
      "108\n",
      "109\n",
      "110\n",
      "111\n",
      "112\n",
      "113\n",
      "114\n",
      "115\n",
      "116\n",
      "117\n",
      "118\n",
      "119\n",
      "120\n",
      "121\n",
      "122\n",
      "123\n",
      "124\n",
      "125\n",
      "126\n",
      "127\n",
      "128\n",
      "129\n",
      "130\n",
      "131\n",
      "132\n",
      "133\n",
      "134\n",
      "135\n",
      "136\n",
      "137\n",
      "138\n"
     ]
    }
   ],
   "source": [
    "#################################\n",
    "#获取新英语900句: 基础篇        #\n",
    "#################################\n",
    "for num in range(89,139):\n",
    "    url=\"http://www.unsv.com/material/english-speaking-8k/lesson%s/\" % num #8000句子\n",
    "    r = requests.get(url)\n",
    "    soup = BeautifulSoup(r.text, \"lxml\")\n",
    "    \n",
    "    title=soup.find('title').text    \n",
    "    lines = soup.find(class_=\"fulltext\")(\"p\")\n",
    "    \n",
    "    string=\"\"\n",
    "    for line in lines:\n",
    "        line=line.string      \n",
    "        \n",
    "        try:\n",
    "            if \"生词解读\" in line: break\n",
    "            string=string+line+'\\n'\n",
    "        except: pass\n",
    "        \n",
    "\n",
    "    fp=open(\"spoken_english_9k.txt\",\"a+\",encoding=\"utf-8\") #9000句\n",
    "    lesson= title + \"\\n\" + string + \"\\n\"\n",
    "    fp.write(lesson)\n",
    "    fp.close()\n",
    "    print(num)"
   ]
  }
 ],
 "metadata": {
  "kernelspec": {
   "display_name": "Python 3",
   "language": "python",
   "name": "python3"
  },
  "language_info": {
   "codemirror_mode": {
    "name": "ipython",
    "version": 3
   },
   "file_extension": ".py",
   "mimetype": "text/x-python",
   "name": "python",
   "nbconvert_exporter": "python",
   "pygments_lexer": "ipython3",
   "version": "3.7.3"
  },
  "toc": {
   "base_numbering": 1,
   "nav_menu": {},
   "number_sections": true,
   "sideBar": true,
   "skip_h1_title": true,
   "title_cell": "Table of Contents",
   "title_sidebar": "Contents",
   "toc_cell": false,
   "toc_position": {},
   "toc_section_display": true,
   "toc_window_display": false
  }
 },
 "nbformat": 4,
 "nbformat_minor": 4
}
