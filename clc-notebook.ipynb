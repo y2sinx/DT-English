{
 "cells": [
  {
   "cell_type": "code",
   "execution_count": 1,
   "metadata": {},
   "outputs": [
    {
     "name": "stdout",
     "output_type": "stream",
     "text": [
      "F:\\Git2\\English\\word\n"
     ]
    }
   ],
   "source": [
    "cd word"
   ]
  },
  {
   "cell_type": "code",
   "execution_count": 49,
   "metadata": {},
   "outputs": [
    {
     "name": "stdout",
     "output_type": "stream",
     "text": [
      "Loading a dictionary..; @bigtan.txt; #36396;\n"
     ]
    }
   ],
   "source": [
    "big=English_Dictionary().load('bigtan.txt')\n",
    "\n",
    "big_bcz=English_Dictionary().load('bigtan_main_bcz.txt')\n",
    "\n",
    "inter=big.words_set.intersection(big_bcz.words_set)\n",
    "\n",
    "big.tag('plus')\n",
    "\n",
    "big_bcz.edt[word]['add']=big.edt[word]['add']\n",
    "\n",
    "big.lookup('lotus')\n",
    "\n",
    "big_bcz.lookup('lotus')\n",
    "\n",
    "big_bcz.edt['lotus']['add']=big.edt['lotus']['add']\n",
    "\n",
    "big_bcz.lookup('lotus')\n",
    "\n",
    "for word in inter:\n",
    "    if 'add' in big.tag(word):\n",
    "        big_bcz.edt[word]['add']=big.edt[word]['add']\n",
    "        print(word)"
   ]
  },
  {
   "cell_type": "code",
   "execution_count": 42,
   "metadata": {},
   "outputs": [
    {
     "data": {
      "text/plain": [
       "'RE__Chinese_Character'"
      ]
     },
     "execution_count": 42,
     "metadata": {},
     "output_type": "execute_result"
    }
   ],
   "source": []
  },
  {
   "cell_type": "code",
   "execution_count": 35,
   "metadata": {},
   "outputs": [
    {
     "name": "stdout",
     "output_type": "stream",
     "text": [
      "RE_Not_Match_SubStr: (?!\\[or\\]not;);    \n"
     ]
    }
   ],
   "source": [
    "%P RE_Not_Match_SubStr"
   ]
  },
  {
   "cell_type": "code",
   "execution_count": 37,
   "metadata": {},
   "outputs": [
    {
     "data": {
      "text/plain": [
       "['subsumption',\n",
       " 'contained',\n",
       " 'incorporated',\n",
       " 'contain',\n",
       " 'numbered',\n",
       " 'trilinear',\n",
       " 'comprise',\n",
       " 'qualifying',\n",
       " 'lamellose',\n",
       " 'in',\n",
       " 'implied',\n",
       " 'include',\n",
       " 'inclusive',\n",
       " 'involved in',\n",
       " 'inclusion',\n",
       " 'implicate',\n",
       " 'incorporate',\n",
       " 'triglot',\n",
       " 'inclusively',\n",
       " 'involvement',\n",
       " 'heterochromatic',\n",
       " 'harbour',\n",
       " 'decamerous',\n",
       " 'embracing',\n",
       " 'incorporable',\n",
       " 'involved',\n",
       " 'comprehension',\n",
       " 'embrace',\n",
       " 'involve',\n",
       " 'comprehend',\n",
       " 'comprised',\n",
       " 'embody',\n",
       " 'encompass']"
      ]
     },
     "execution_count": 37,
     "metadata": {},
     "output_type": "execute_result"
    }
   ],
   "source": [
    "search(\"包含\")"
   ]
  },
  {
   "cell_type": "code",
   "execution_count": 26,
   "metadata": {
    "scrolled": false
   },
   "outputs": [
    {
     "name": "stdout",
     "output_type": "stream",
     "text": [
      "Loading a dictionary..; @unix.txt.bad; #209;\n",
      "Loading a dictionary..; @unix.txt.good; #12;\n",
      "Loading a dictionary..; @unix.txt; #50050;\n",
      "\n",
      "共匹配到单词: 3680个!\n",
      "################################################################\n",
      ">>>arrestor:\n",
      "a:/ə'rɛstɚ/; \n",
      "n:避雷器;逮捕者;拘捕者;被扣押的债务人财产的合法持有人; \n",
      "or:nok;\n",
      "\n",
      ">>>[bad/Ent][good/!``]:0\n"
     ]
    },
    {
     "data": {
      "text/plain": [
       "'Save and Exit!'"
      ]
     },
     "execution_count": 26,
     "metadata": {},
     "output_type": "execute_result"
    }
   ],
   "source": [
    "see_you_again(matcher=\"a*\",flag=True)"
   ]
  }
 ],
 "metadata": {
  "kernelspec": {
   "display_name": "Python 3",
   "language": "python",
   "name": "python3"
  },
  "language_info": {
   "codemirror_mode": {
    "name": "ipython",
    "version": 3
   },
   "file_extension": ".py",
   "mimetype": "text/x-python",
   "name": "python",
   "nbconvert_exporter": "python",
   "pygments_lexer": "ipython3",
   "version": "3.7.3"
  },
  "toc": {
   "base_numbering": 1,
   "nav_menu": {},
   "number_sections": true,
   "sideBar": true,
   "skip_h1_title": true,
   "title_cell": "Table of Contents",
   "title_sidebar": "Contents",
   "toc_cell": false,
   "toc_position": {},
   "toc_section_display": true,
   "toc_window_display": false
  }
 },
 "nbformat": 4,
 "nbformat_minor": 4
}
