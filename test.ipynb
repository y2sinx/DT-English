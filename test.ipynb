{
 "cells": [
  {
   "cell_type": "code",
   "execution_count": 136,
   "metadata": {},
   "outputs": [
    {
     "name": "stdout",
     "output_type": "stream",
     "text": [
      "#harri#: [none-yd];\n"
     ]
    },
    {
     "data": {
      "text/plain": [
       "''"
      ]
     },
     "execution_count": 136,
     "metadata": {},
     "output_type": "execute_result"
    }
   ],
   "source": [
    "dt mesmerise"
   ]
  },
  {
   "cell_type": "code",
   "execution_count": 133,
   "metadata": {},
   "outputs": [
    {
     "data": {
      "text/plain": [
       "['argenteous', 'generosity', 'grapestone', 'gravestone', 'segmentary']"
      ]
     },
     "execution_count": 133,
     "metadata": {},
     "output_type": "execute_result"
    }
   ],
   "source": [
    "# tt=English_Dictionary().load('a')\n",
    "tt.similar('genorasety')"
   ]
  },
  {
   "cell_type": "code",
   "execution_count": 138,
   "metadata": {},
   "outputs": [
    {
     "name": "stdout",
     "output_type": "stream",
     "text": [
      "Backup: bigtan.txt##proofread.backup!\n",
      "Loading a dictionary...\n",
      "Origin: bigtan.txt; #86497;\n",
      "\n",
      "\n",
      "================= 0,mesmerize ==================\n",
      "<Old> mesmerize: [a]/ˈmezməraɪz/; [v]施催眠术;吸引,使神魂颠倒; [add]pt/mesmerized,pp/mesmerized,pr/mesmerizing,s3/mesmerizes; [or]bt;\n",
      "p/[c]: \n",
      "<New> mesmerize: [a]/ˈmezməraɪz/; [x]=mesmerise;[v]施催眠术;吸引,使神魂颠倒; [add]pt/mesmerized,pp/mesmerized,pr/mesmerizing,s3/mesmerizes; [or]bt;\n",
      "\n",
      "Write file: F:/Git2/English/bigtan/bigtan.txt...\n"
     ]
    },
    {
     "data": {
      "text/plain": [
       "'Done and Save!'"
      ]
     },
     "execution_count": 138,
     "metadata": {},
     "output_type": "execute_result"
    }
   ],
   "source": [
    "# search('mesmerize')\n",
    "modify('mesmerize')"
   ]
  }
 ],
 "metadata": {
  "kernelspec": {
   "display_name": "Python 3",
   "language": "python",
   "name": "python3"
  },
  "language_info": {
   "codemirror_mode": {
    "name": "ipython",
    "version": 3
   },
   "file_extension": ".py",
   "mimetype": "text/x-python",
   "name": "python",
   "nbconvert_exporter": "python",
   "pygments_lexer": "ipython3",
   "version": "3.7.6"
  },
  "toc": {
   "base_numbering": 1,
   "nav_menu": {},
   "number_sections": true,
   "sideBar": true,
   "skip_h1_title": true,
   "title_cell": "Table of Contents",
   "title_sidebar": "Contents",
   "toc_cell": false,
   "toc_position": {},
   "toc_section_display": true,
   "toc_window_display": false
  }
 },
 "nbformat": 4,
 "nbformat_minor": 4
}
