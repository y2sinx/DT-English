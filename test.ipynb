{
 "cells": [
  {
   "cell_type": "code",
   "execution_count": 6,
   "metadata": {},
   "outputs": [
    {
     "data": {
      "text/plain": [
       "'commonwealth: [a]/ˈkɒmənwelθ/; [n]联邦; [add]pl/commonwealths; [or]bt;'"
      ]
     },
     "execution_count": 6,
     "metadata": {},
     "output_type": "execute_result"
    }
   ],
   "source": [
    "dt commonwealth"
   ]
  },
  {
   "cell_type": "code",
   "execution_count": null,
   "metadata": {},
   "outputs": [],
   "source": [
    "dt olive"
   ]
  },
  {
   "cell_type": "code",
   "execution_count": 55,
   "metadata": {
    "scrolled": false
   },
   "outputs": [
    {
     "name": "stdout",
     "output_type": "stream",
     "text": [
      "Backup: bigtan.txt##proofread.backup!\n",
      "Loading a dictionary...\n",
      "Origin: bigtan.txt; #86519;\n",
      "\n",
      "\n",
      "=================== 0,olive ====================\n",
      "<Old> olive: [a]/ˈɑːlɪv/; [n]橄榄;橄榄树;橄榄色; [adj]橄榄色的; [add]pl/olives; [or]bt;\n",
      "p/[c]: \n",
      "<New> olive: [a]/ˈɒlɪv/; [n]橄榄;橄榄树;橄榄色; [adj]橄榄色的; [add]pl/olives; [or]bt;\n",
      "\n",
      "Write file: F:/Git2/English/bigtan/bigtan.txt...\n"
     ]
    },
    {
     "data": {
      "text/plain": [
       "'Done and Save!'"
      ]
     },
     "execution_count": 55,
     "metadata": {},
     "output_type": "execute_result"
    }
   ],
   "source": [
    "# %dt \n",
    "# search('冒泡')\n",
    "modify('olive')\n",
    "# tt.similar('')"
   ]
  },
  {
   "cell_type": "code",
   "execution_count": 56,
   "metadata": {},
   "outputs": [
    {
     "data": {
      "text/plain": [
       "'common: [a]/ˈkɑːmən/; [adj]普通的;共同的; [n]公地;平民;普通;公园; [add]er/commoner,est/commonest,pl/commons; [or]bt;'"
      ]
     },
     "execution_count": 56,
     "metadata": {},
     "output_type": "execute_result"
    }
   ],
   "source": [
    "dt common"
   ]
  },
  {
   "cell_type": "code",
   "execution_count": 59,
   "metadata": {},
   "outputs": [
    {
     "name": "stdout",
     "output_type": "stream",
     "text": [
      "Loading a dictionary...\n",
      "Origin: accent_en.txt; #38456;\n",
      "\n"
     ]
    }
   ],
   "source": [
    "at=English_Dictionary().load('bigtan/accent_en.txt')"
   ]
  },
  {
   "cell_type": "code",
   "execution_count": null,
   "metadata": {},
   "outputs": [],
   "source": [
    "inter=tt.words_set.intersection(at.words_set)"
   ]
  },
  {
   "cell_type": "code",
   "execution_count": 64,
   "metadata": {},
   "outputs": [],
   "source": [
    "inter=list(inter)"
   ]
  },
  {
   "cell_type": "code",
   "execution_count": 66,
   "metadata": {},
   "outputs": [],
   "source": [
    "for word in inter:\n",
    "    tt.edt[word]['a']=at.edt[word]['a']    "
   ]
  },
  {
   "cell_type": "code",
   "execution_count": 68,
   "metadata": {},
   "outputs": [
    {
     "data": {
      "text/plain": [
       "'bigtan_acc.txt'"
      ]
     },
     "execution_count": 68,
     "metadata": {},
     "output_type": "execute_result"
    }
   ],
   "source": [
    "tt.to_txt('bigtan_acc.txt')"
   ]
  }
 ],
 "metadata": {
  "kernelspec": {
   "display_name": "Python 3",
   "language": "python",
   "name": "python3"
  },
  "language_info": {
   "codemirror_mode": {
    "name": "ipython",
    "version": 3
   },
   "file_extension": ".py",
   "mimetype": "text/x-python",
   "name": "python",
   "nbconvert_exporter": "python",
   "pygments_lexer": "ipython3",
   "version": "3.7.6"
  },
  "toc": {
   "base_numbering": 1,
   "nav_menu": {},
   "number_sections": true,
   "sideBar": true,
   "skip_h1_title": true,
   "title_cell": "Table of Contents",
   "title_sidebar": "Contents",
   "toc_cell": false,
   "toc_position": {},
   "toc_section_display": true,
   "toc_window_display": false
  }
 },
 "nbformat": 4,
 "nbformat_minor": 4
}
