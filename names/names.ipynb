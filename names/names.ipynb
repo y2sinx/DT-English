{
 "cells": [
  {
   "cell_type": "code",
   "execution_count": 1,
   "metadata": {},
   "outputs": [
    {
     "name": "stdout",
     "output_type": "stream",
     "text": [
      "Initializing:\n",
      "Number: 2943\n",
      "From: F:/Git2/English/names/male.txt\n",
      "Initializing:\n",
      "Number: 7578\n",
      "From: F:/Git2/English/names/female.txt\n",
      "Initializing:\n",
      "Number: 13480\n",
      "From: F:/Git2/English/names/family.txt\n",
      "================================\n",
      "Writing: F:/Git2/English/names/test.yes\n",
      "Writing: F:/Git2/English/names/test.no\n",
      "1/20: Aamir\n",
      "2/20: Aaron\n",
      "3/20: Abbey\n",
      "4/20: Abbie\n",
      "5/20: Abbot\n",
      "6/20: Abbott\n",
      "7/20: Abby\n",
      "8/20: Abdel\n",
      "9/20: Abdul\n",
      "10/20: Abdulkarim\n",
      "11/20: Abdullah\n",
      "12/20: Abe\n",
      "13/20: Abel\n",
      "14/20: Abelard\n",
      "15/20: Abner\n",
      "16/20: Abraham\n",
      "17/20: Abram\n",
      "18/20: Ace\n",
      "19/20: Adair\n",
      "20/20: Adam\n"
     ]
    }
   ],
   "source": [
    "# F:/Git2/English/test/unix_youdao.py\n",
    "import requests\n",
    "from bs4 import BeautifulSoup\n",
    "def names_adding(word):    \n",
    "    try:\n",
    "        url_yd = \"http://dict.youdao.com/w/%s/#keyfrom=dict2.top\" % word\n",
    "        r = requests.get(url=url_yd)\n",
    "\n",
    "        # 利用BeautifulSoup将获取到的文本解析成HTML\n",
    "        soup = BeautifulSoup(r.text, \"lxml\")\n",
    "        # 获取字典的标签内容\n",
    "        s = soup.find(class_=\"trans-container\")(\"ul\")[0](\"li\")\n",
    "        additional = soup.find(class_=\"additional\").get_text()\n",
    "        phonetic = soup.find(class_=\"phonetic\").get_text()\n",
    "        phonetic = '[a]'+'/'+phonetic[1:len(phonetic)-1]+'/;'\n",
    "        meanings = ''\n",
    "        for item in s:\n",
    "            if item.text:\n",
    "                meanings = meanings+biaodian(item.text)+'; '\n",
    "        meanings = meanings.replace('n. ','[n]').replace('vt. ','[vt]').replace('adj. ','[adj]').replace('adv. ','[adv]')\n",
    "        return \"{}: {} {}\".format(word,phonetic,meanings)\n",
    "    except Exception: return 0\n",
    "\n",
    "#######################################################\n",
    "male=EngDict(\"F:/Git2/English/names/male.txt\").words\n",
    "female=EngDict(\"F:/Git2/English/names/female.txt\").words\n",
    "family=EngDict(\"F:/Git2/English/names/family.txt\").words\n",
    "print('='*32)\n",
    "\n",
    "names = male\n",
    "# name = female\n",
    "# name = family\n",
    "\n",
    "fn_out = \"F:/Git2/English/names/{}.yes\".format('male')\n",
    "fn_out2 = fn_out.replace('yes','no') \n",
    "\n",
    "len_names=len(names)\n",
    "with open(fn_out,mode='w',encoding='utf-8') as fn1: \n",
    "    with open(fn_out2,mode='w',encoding='utf-8') as fn2: \n",
    "        print(\"Writing: {}\".format(fn_out))\n",
    "        print(\"Writing: {}\".format(fn_out2))\n",
    "        for i,word in enumerate(names):\n",
    "            line = names_adding(word)\n",
    "            if line==0: fn2.write(word+'\\n')\n",
    "            else: fn1.write(line+'\\n')\n",
    "            num=i+1\n",
    "            print(\"{}/{}: {}\".format(num,len_names,word))"
   ]
  },
  {
   "cell_type": "code",
   "execution_count": null,
   "metadata": {},
   "outputs": [],
   "source": [
    "a=names_adding('Abe')"
   ]
  },
  {
   "cell_type": "code",
   "execution_count": 27,
   "metadata": {},
   "outputs": [
    {
     "data": {
      "text/plain": [
       "0"
      ]
     },
     "execution_count": 27,
     "metadata": {},
     "output_type": "execute_result"
    }
   ],
   "source": [
    "a"
   ]
  }
 ],
 "metadata": {
  "kernelspec": {
   "display_name": "Python 3",
   "language": "python",
   "name": "python3"
  },
  "language_info": {
   "codemirror_mode": {
    "name": "ipython",
    "version": 3
   },
   "file_extension": ".py",
   "mimetype": "text/x-python",
   "name": "python",
   "nbconvert_exporter": "python",
   "pygments_lexer": "ipython3",
   "version": "3.7.3"
  },
  "toc": {
   "base_numbering": 1,
   "nav_menu": {},
   "number_sections": true,
   "sideBar": true,
   "skip_h1_title": true,
   "title_cell": "Table of Contents",
   "title_sidebar": "Contents",
   "toc_cell": false,
   "toc_position": {},
   "toc_section_display": true,
   "toc_window_display": false
  }
 },
 "nbformat": 4,
 "nbformat_minor": 2
}
