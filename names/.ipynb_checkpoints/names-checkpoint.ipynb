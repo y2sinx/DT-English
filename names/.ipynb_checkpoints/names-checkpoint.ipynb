{
 "cells": [
  {
   "cell_type": "code",
   "execution_count": 11,
   "metadata": {},
   "outputs": [],
   "source": [
    "a"
   ]
  },
  {
   "cell_type": "code",
   "execution_count": 8,
   "metadata": {},
   "outputs": [
    {
     "name": "stdout",
     "output_type": "stream",
     "text": [
      "Initializing:\n",
      "Number: 2943\n",
      "From: F:/Git2/English/names/male.txt\n"
     ]
    }
   ],
   "source": [
    "F:/Git2/English/test/unix_youdao.py\n",
    "import requests\n",
    "from bs4 import BeautifulSoup\n",
    "def names_adding(word):    \n",
    "    try:\n",
    "        url_yd = \"http://dict.youdao.com/w/%s/#keyfrom=dict2.top\" % word\n",
    "        r = requests.get(url=url_yd)\n",
    "\n",
    "        # 利用BeautifulSoup将获取到的文本解析成HTML\n",
    "        soup = BeautifulSoup(r.text, \"lxml\")\n",
    "        # 获取字典的标签内容\n",
    "        s = soup.find(class_=\"trans-container\")(\"ul\")[0](\"li\")\n",
    "        additional = soup.find(class_=\"additional\").get_text()\n",
    "        phonetic = soup.find(class_=\"phonetic\").get_text()\n",
    "        phonetic = '[a]'+'/'+phonetic[1:len(phonetic)-1]+'/;'\n",
    "        additional=additional.replace('\\n','/').replace(' ','')\n",
    "        additional = additional.strip('[').strip(']').strip('/').split('/')\n",
    "        add1=additional[0::2]\n",
    "        add2=additional[1::2]\n",
    "\n",
    "        add = '[add]'\n",
    "        for i,j in zip(add1,add2):\n",
    "            add = add+i+'/'+j+','\n",
    "        meanings = ''\n",
    "        for item in s:\n",
    "            if item.text:\n",
    "                meanings = meanings+biaodian(item.text)+'; '\n",
    "        meanings = meanings.replace('n. ','[n]').replace('vt. ','[vt]').replace('adj. ','[adj]').replace('adv. ','[adv]')\n",
    "        return \"{}: {} {}{}\".format(word,phonetic,meanings,add+';')\n",
    "    except Exception: return 0\n",
    "\n",
    "#######################################################\n",
    "## 26个单词列表对应的单词 a,b,...,z\n",
    "for alpha in Alphabet:\n",
    "    unix_alpha='unix_'+alpha.lower()\n",
    "    fn=\"F:/Git2/English/unix/{}.txt\".format(alpha)\n",
    "    wds = set(EngDict(fn).words)\n",
    "    exec(\"{}={}\".format(unix_alpha,'wds'))\n",
    "print(\"=\"*32)\n",
    "\n",
    "## 已知单词\n",
    "know1 = set(EngDict('all').words)\n",
    "know2 = set(EngDict('F:/Git2/English/unix/unix_meanings.txt').words)\n",
    "know=know1.union(know2)\n",
    "print(\"=\"*32)\n",
    "\n",
    "#######################################################\n",
    "## 选定待查的范围\n",
    "unix_alpha = unix_x\n",
    "fn_out='F:/Git2/English/test/{}.txt'.format('unix_test')\n",
    "fn_out2=fn_out+'.nomeaning'\n",
    "## 待查单词,排除已知含义的单词\n",
    "lookuping = unix_alpha.difference(know) \n",
    "lookuping = list(lookuping)[:20]\n",
    "#######################################################\n",
    "len_lookuping=len(lookuping)\n",
    "with open(fn_out,mode='w',encoding='utf-8') as fn1: \n",
    "    print(\"Writing: {}\".format(fn_out))\n",
    "    print(\"Writing: {}\".format(fn_out2))\n",
    "    for i,word in enumerate(lookuping):\n",
    "        line = unix_adding(word)\n",
    "        if line==0:\n",
    "            with open(fn_out2,mode='w',encoding='utf-8') as fn2: \n",
    "                fn2.write(word+'\\n')\n",
    "        else:\n",
    "            fn1.write(line+'\\n')\n",
    "        num=i+1\n",
    "        print(\"{}/{}: {}\".format(num,len_lookuping,word))"
   ]
  },
  {
   "cell_type": "code",
   "execution_count": 9,
   "metadata": {},
   "outputs": [
    {
     "name": "stdout",
     "output_type": "stream",
     "text": [
      "Mark: \n",
      "x:"
     ]
    }
   ],
   "source": [
    "m.lookup('Mark')"
   ]
  }
 ],
 "metadata": {
  "kernelspec": {
   "display_name": "Python 3",
   "language": "python",
   "name": "python3"
  },
  "toc": {
   "base_numbering": 1,
   "nav_menu": {},
   "number_sections": true,
   "sideBar": true,
   "skip_h1_title": true,
   "title_cell": "Table of Contents",
   "title_sidebar": "Contents",
   "toc_cell": false,
   "toc_position": {},
   "toc_section_display": true,
   "toc_window_display": false
  }
 },
 "nbformat": 4,
 "nbformat_minor": 2
}
