{
 "cells": [
  {
   "cell_type": "code",
   "execution_count": 1,
   "metadata": {},
   "outputs": [],
   "source": [
    "reload2(english)\n",
    "from ddpie.english import *"
   ]
  },
  {
   "cell_type": "code",
   "execution_count": 93,
   "metadata": {},
   "outputs": [
    {
     "name": "stdout",
     "output_type": "stream",
     "text": [
      "Loading a dictionary..; @math.txt; #118;\n",
      "Loading a dictionary..; @special.txt; #13455;\n",
      "Loading a dictionary..; @bigtan.txt; #39104;\n"
     ]
    },
    {
     "data": {
      "text/plain": [
       "5"
      ]
     },
     "execution_count": 93,
     "metadata": {},
     "output_type": "execute_result"
    }
   ],
   "source": [
    "by=English_Dictionary().load('math.txt')\n",
    "\n",
    "spe=English_Dictionary().load('special.txt')\n",
    "bigtan=English_Dictionary().load('bigtan.txt')\n",
    "spe.edt.update(bigtan.edt)\n",
    "spe.length\n",
    "\n",
    "need=by.words_set.difference(spe.words_set)\n",
    "len(need)"
   ]
  },
  {
   "cell_type": "markdown",
   "metadata": {},
   "source": [
    "cytokine: [a]/'saɪtə(ʊ)kaɪn/; [n]<细胞> 细胞因子;细胞激素; [add]; [or]:;\n",
    "\n",
    "sweet: [a]/swiːt/; [adj]甜的,芳香的,美好的,可爱的; [n]糖果,甜食;亲爱的人,宝贝; [add]pl/sweets; [or]zk;\n",
    "\n",
    "fudge: [a]/fʌdʒ/; [n]法奇软糖; [v]含糊其辞,模糊处理;回避;篡改,捏造(事实,数字); [int]胡说,废话(表示怀疑或恼怒); [add]pl/fudges,pt/fudged,pp/fudged,pr/fudging,s3/fudges; \n",
    "[gd]un; [or]unix;\n",
    "\n",
    "Gutenberg: [a]/'gu:tnbə:g/; [n]古腾堡(人名,德国活版印刷发明人); [or]nm;\n",
    "\n",
    "muff: [a]/mʌf/; [n]暖手套,皮手套; [v]错过(机会);搞砸,把(某事)弄糟,做错;漏接(球),接(球)失误; [add]pl/muffs,pt/muffed,pp/muffed,pr/muffing,s3/muffs; [or]unix;\n",
    "\n",
    "parasol: [a]/ˈpærəsɒl/; [n]女用阳伞(旧时的);(海滩上,餐馆外等处的)大遮阳伞; [add]pl/parasols; [or]unix;\n",
    "\n",
    "good-natured: [a]/ˌɡʊd ˈneɪtʃəd/; [adj]和蔼的;温厚的;脾气好的; [or]yd;"
   ]
  }
 ],
 "metadata": {
  "kernelspec": {
   "display_name": "Python 3",
   "language": "python",
   "name": "python3"
  },
  "language_info": {
   "codemirror_mode": {
    "name": "ipython",
    "version": 3
   },
   "file_extension": ".py",
   "mimetype": "text/x-python",
   "name": "python",
   "nbconvert_exporter": "python",
   "pygments_lexer": "ipython3",
   "version": "3.7.3"
  },
  "toc": {
   "base_numbering": 1,
   "nav_menu": {},
   "number_sections": true,
   "sideBar": true,
   "skip_h1_title": true,
   "title_cell": "Table of Contents",
   "title_sidebar": "Contents",
   "toc_cell": false,
   "toc_position": {},
   "toc_section_display": true,
   "toc_window_display": false
  }
 },
 "nbformat": 4,
 "nbformat_minor": 2
}
