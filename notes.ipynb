{
 "cells": [
  {
   "cell_type": "code",
   "execution_count": 41,
   "metadata": {},
   "outputs": [
    {
     "data": {
      "text/plain": [
       "<module 'ddpie.english' from 'F:\\\\Git2\\\\ddpie\\\\english.py'>"
      ]
     },
     "execution_count": 41,
     "metadata": {},
     "output_type": "execute_result"
    }
   ],
   "source": [
    "reload2(english)"
   ]
  },
  {
   "cell_type": "code",
   "execution_count": 42,
   "metadata": {},
   "outputs": [
    {
     "name": "stdout",
     "output_type": "stream",
     "text": [
      "Abnaki: \n",
      "a:/æb'nɑ:ki:/; \n",
      "n:阿布纳基族;阿布纳基人;阿布纳基语; \n",
      "add:pl/Abnaki; \n",
      "or:unix;"
     ]
    }
   ],
   "source": [
    "%bigtan Abnaki"
   ]
  },
  {
   "cell_type": "code",
   "execution_count": 45,
   "metadata": {
    "code_folding": [],
    "scrolled": false
   },
   "outputs": [
    {
     "name": "stdout",
     "output_type": "stream",
     "text": [
      "Initializing:\n",
      "Number: 2741\n",
      "From: F:/Git2/English/word/names.txt\n"
     ]
    }
   ],
   "source": [
    "fn=\"F:/Git2/English/word/names.txt\"\n",
    "names=english.EngDict(fn)"
   ]
  },
  {
   "cell_type": "code",
   "execution_count": 46,
   "metadata": {},
   "outputs": [],
   "source": [
    "names.to_txt(\"F:/Git2/English/word/names-.txt\")"
   ]
  },
  {
   "cell_type": "code",
   "execution_count": 49,
   "metadata": {},
   "outputs": [
    {
     "name": "stdout",
     "output_type": "stream",
     "text": [
      "Al: \n",
      "a:/æl/; abbr. 美国联盟(American League);美国军团(American Legion);阿尔巴尼亚(Albania,欧洲一国家名);美国亚拉巴马州(Alabama); \n",
      "n:(Al)人名;(英)阿尔(Albert 在美国的昵称); \n",
      "gd:male;"
     ]
    }
   ],
   "source": [
    "names.lookup('Al')"
   ]
  }
 ],
 "metadata": {
  "kernelspec": {
   "display_name": "Python 3",
   "language": "python",
   "name": "python3"
  },
  "language_info": {
   "codemirror_mode": {
    "name": "ipython",
    "version": 3
   },
   "file_extension": ".py",
   "mimetype": "text/x-python",
   "name": "python",
   "nbconvert_exporter": "python",
   "pygments_lexer": "ipython3",
   "version": "3.7.3"
  },
  "toc": {
   "base_numbering": 1,
   "nav_menu": {},
   "number_sections": true,
   "sideBar": true,
   "skip_h1_title": true,
   "title_cell": "Table of Contents",
   "title_sidebar": "Contents",
   "toc_cell": false,
   "toc_position": {},
   "toc_section_display": true,
   "toc_window_display": false
  }
 },
 "nbformat": 4,
 "nbformat_minor": 4
}
