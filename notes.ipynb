{
 "cells": [
  {
   "cell_type": "code",
   "execution_count": null,
   "metadata": {},
   "outputs": [],
   "source": [
    "reload2(english)"
   ]
  },
  {
   "cell_type": "code",
   "execution_count": 113,
   "metadata": {},
   "outputs": [
    {
     "name": "stdout",
     "output_type": "stream",
     "text": [
      "['[细胞]']\n",
      "cytokine: [a]/'saɪtə(ʊ)kaɪn/;  n. <细胞> 细胞因子;细胞激素; [add]; [or]:yd;\n"
     ]
    }
   ],
   "source": [
    "youdao_self(\"cytokine\")"
   ]
  },
  {
   "cell_type": "code",
   "execution_count": 34,
   "metadata": {
    "scrolled": false
   },
   "outputs": [
    {
     "name": "stdout",
     "output_type": "stream",
     "text": [
      "Loading a dictionary..; @all; #81879;\n"
     ]
    },
    {
     "data": {
      "text/plain": [
       "<module 'ddpie.nbmagic' from 'F:\\\\Git2\\\\ddpie\\\\nbmagic.py'>"
      ]
     },
     "execution_count": 34,
     "metadata": {},
     "output_type": "execute_result"
    }
   ],
   "source": [
    "reload2(nbmagic)"
   ]
  },
  {
   "cell_type": "code",
   "execution_count": 35,
   "metadata": {
    "scrolled": false
   },
   "outputs": [
    {
     "name": "stdout",
     "output_type": "stream",
     "text": [
      "Loading a dictionary..; @A; #81879;\n"
     ]
    }
   ],
   "source": [
    "dt=english.EngDict(\"A\")"
   ]
  },
  {
   "cell_type": "code",
   "execution_count": 138,
   "metadata": {},
   "outputs": [],
   "source": []
  },
  {
   "cell_type": "code",
   "execution_count": 139,
   "metadata": {},
   "outputs": [],
   "source": [
    "line=' n. [细胞] 细胞因子;细胞激素; adj. '"
   ]
  },
  {
   "cell_type": "code",
   "execution_count": null,
   "metadata": {},
   "outputs": [],
   "source": [
    "with open(fpath,'r',encoding='utf-8') as fp:\n",
    "    string=fp.read()\n",
    "    subject=\n"
   ]
  },
  {
   "cell_type": "code",
   "execution_count": 50,
   "metadata": {},
   "outputs": [
    {
     "data": {
      "text/plain": [
       "['[细胞]', '[看看]']"
      ]
     },
     "execution_count": 50,
     "metadata": {},
     "output_type": "execute_result"
    }
   ],
   "source": [
    "pat=\"\\[[\\u4e00-\\u9fa5]{1,}\\]\"\n",
    "subs = re.findall(pat,string)\n",
    "subs"
   ]
  },
  {
   "cell_type": "code",
   "execution_count": 52,
   "metadata": {},
   "outputs": [
    {
     "data": {
      "text/plain": [
       "'n. <细胞> 细胞因子;细胞激素; <看看>ceshi;'"
      ]
     },
     "execution_count": 52,
     "metadata": {},
     "output_type": "execute_result"
    }
   ],
   "source": [
    "for old in subs:\n",
    "    new=\"<\"+old[1:len(old)-1]+\">\"\n",
    "    string=string.replace(old,new)\n",
    "string"
   ]
  },
  {
   "cell_type": "code",
   "execution_count": null,
   "metadata": {},
   "outputs": [],
   "source": []
  },
  {
   "cell_type": "code",
   "execution_count": 58,
   "metadata": {},
   "outputs": [
    {
     "name": "stdout",
     "output_type": "stream",
     "text": [
      "[]\n"
     ]
    },
    {
     "data": {
      "text/plain": [
       "'n. [细胞] 细胞因子;细胞激素; [看看]ceshi; [kk]ceshi'"
      ]
     },
     "execution_count": 58,
     "metadata": {},
     "output_type": "execute_result"
    }
   ],
   "source": [
    "for old in subs:\n",
    "    new=\"<\"+old[1:len(old)-1]+\">\"\n",
    "    line=line.replace(old,new)\n",
    "line"
   ]
  },
  {
   "cell_type": "code",
   "execution_count": 106,
   "metadata": {},
   "outputs": [
    {
     "name": "stdout",
     "output_type": "stream",
     "text": [
      "['[细胞]', '[看看]', '[kk]', '[看看adj]', '[aa13a]']\n"
     ]
    }
   ],
   "source": [
    "change_lable(line)"
   ]
  },
  {
   "cell_type": "code",
   "execution_count": 122,
   "metadata": {},
   "outputs": [
    {
     "data": {
      "text/plain": [
       "[' n. ', ' v. ', ' vt. ', ' vi. ', ' adj. ', ' adv. ', ' pron. ', ' prep. ']"
      ]
     },
     "execution_count": 122,
     "metadata": {},
     "output_type": "execute_result"
    }
   ],
   "source": [
    "olds"
   ]
  },
  {
   "cell_type": "code",
   "execution_count": 140,
   "metadata": {},
   "outputs": [
    {
     "data": {
      "text/plain": [
       "'[n][细胞] 细胞因子;细胞激素;[adj]'"
      ]
     },
     "execution_count": 140,
     "metadata": {},
     "output_type": "execute_result"
    }
   ],
   "source": [
    "change_lable_by_list(line)"
   ]
  },
  {
   "cell_type": "code",
   "execution_count": 32,
   "metadata": {},
   "outputs": [
    {
     "name": "stdout",
     "output_type": "stream",
     "text": [
      "Can't find it in Youdao.\n",
      "\n"
     ]
    }
   ],
   "source": []
  },
  {
   "cell_type": "code",
   "execution_count": 22,
   "metadata": {},
   "outputs": [
    {
     "name": "stdout",
     "output_type": "stream",
     "text": [
      "cytokine: [a]/'saɪtə(ʊ)kaɪn/; n. [细胞] 细胞因子;细胞激素; [add]; [or]:yd;\n"
     ]
    }
   ],
   "source": [
    "%kk_line cytokine"
   ]
  },
  {
   "cell_type": "code",
   "execution_count": 27,
   "metadata": {},
   "outputs": [],
   "source": [
    "fpath2=fpath+\".sub\"\n",
    "with open(fpath2,'w',encoding='utf-8') as fp2:\n",
    "    fp2.write(string)\n",
    "print(fpath2.replace('/','\\\\'))"
   ]
  },
  {
   "cell_type": "code",
   "execution_count": 10,
   "metadata": {
    "scrolled": true
   },
   "outputs": [
    {
     "name": "stdout",
     "output_type": "stream",
     "text": [
      "@revising.txt: `这是一条测试行..`\n"
     ]
    }
   ],
   "source": [
    "%revise_to 这是一条测试行"
   ]
  },
  {
   "cell_type": "code",
   "execution_count": 9,
   "metadata": {},
   "outputs": [
    {
     "data": {
      "text/plain": [
       "'basement: [a]/ˈbeɪsmənt/; [n]<建筑学>地下室;根基; [or]gk;'"
      ]
     },
     "execution_count": 9,
     "metadata": {},
     "output_type": "execute_result"
    }
   ],
   "source": [
    "%kk_line basement"
   ]
  },
  {
   "cell_type": "code",
   "execution_count": 8,
   "metadata": {},
   "outputs": [
    {
     "data": {
      "text/plain": [
       "'basement: [a]/ˈbeɪsmənt/; [n]<建筑学>地下室;根基; [or]gk;'"
      ]
     },
     "execution_count": 8,
     "metadata": {},
     "output_type": "execute_result"
    }
   ],
   "source": [
    "dt.to_line(\"basement\")"
   ]
  },
  {
   "cell_type": "code",
   "execution_count": 3,
   "metadata": {},
   "outputs": [
    {
     "name": "stdout",
     "output_type": "stream",
     "text": [
      "basement: [a]/ˈbeɪsmənt/; [n]<建筑学>地下室;根基; [or]gk;\n"
     ]
    }
   ],
   "source": [
    "%kk_line basement"
   ]
  },
  {
   "cell_type": "code",
   "execution_count": 21,
   "metadata": {},
   "outputs": [
    {
     "ename": "NameError",
     "evalue": "name 'old' is not defined",
     "output_type": "error",
     "traceback": [
      "\u001b[1;31m---------------------------------------------------------------------------\u001b[0m",
      "\u001b[1;31mNameError\u001b[0m                                 Traceback (most recent call last)",
      "\u001b[1;32m<ipython-input-21-281bac2b7046>\u001b[0m in \u001b[0;36m<module>\u001b[1;34m\u001b[0m\n\u001b[1;32m----> 1\u001b[1;33m \u001b[0mold\u001b[0m\u001b[1;33m\u001b[0m\u001b[1;33m\u001b[0m\u001b[0m\n\u001b[0m",
      "\u001b[1;31mNameError\u001b[0m: name 'old' is not defined"
     ]
    }
   ],
   "source": [
    "old"
   ]
  },
  {
   "cell_type": "code",
   "execution_count": 53,
   "metadata": {},
   "outputs": [
    {
     "data": {
      "text/plain": [
       "'<建>'"
      ]
     },
     "execution_count": 53,
     "metadata": {},
     "output_type": "execute_result"
    }
   ],
   "source": [
    "new"
   ]
  },
  {
   "cell_type": "code",
   "execution_count": 50,
   "metadata": {},
   "outputs": [
    {
     "name": "stdout",
     "output_type": "stream",
     "text": [
      "F:\\Git2\\English\\word\\02_gaokao_bcz.txt.sub\n"
     ]
    }
   ],
   "source": [
    "fpath=\"F:/Git2/English/word/02_gaokao_bcz.txt\"\n"
   ]
  },
  {
   "cell_type": "code",
   "execution_count": 57,
   "metadata": {},
   "outputs": [
    {
     "name": "stdout",
     "output_type": "stream",
     "text": [
      "F:\\Git2\\English\\word\\01_zhongkao_bcz.txt.sub\n",
      "F:\\Git2\\English\\word\\02_gaokao_bcz.txt.sub\n",
      "F:\\Git2\\English\\word\\03_4ji_bcz.txt.sub\n",
      "F:\\Git2\\English\\word\\04_6ji_bcz.txt.sub\n",
      "F:\\Git2\\English\\word\\05_kaoyan_bcz.txt.sub\n",
      "F:\\Git2\\English\\word\\06_zhuan4_bcz.txt.sub\n",
      "F:\\Git2\\English\\word\\07_zhuan8_bcz.txt.sub\n",
      "F:\\Git2\\English\\word\\08_yasihx.bcz.txt.sub\n",
      "F:\\Git2\\English\\word\\09_tuofu_bcz.txt.sub\n",
      "F:\\Git2\\English\\word\\11_sat_bcz.txt.sub\n",
      "F:\\Git2\\English\\word\\12_gre3k_bcz.txt.sub\n",
      "F:\\Git2\\English\\word\\13_gmat_bcz.txt.sub\n",
      "F:\\Git2\\English\\word\\14_tuoyehx_bcz.txt.sub\n",
      "F:\\Git2\\English\\word\\else.txt.sub\n",
      "F:\\Git2\\English\\word\\names.txt.sub\n",
      "F:\\Git2\\English\\word\\special.txt.sub\n",
      "F:\\Git2\\English\\word\\toefl_ibt.txt.sub\n",
      "F:\\Git2\\English\\word\\unix_simplified.txt.sub\n"
     ]
    }
   ],
   "source": [
    "for fpath in os.listdir(WORDLISTS_PATH):\n",
    "    change_subject_label(WORDLISTS_PATH+fpath)"
   ]
  },
  {
   "cell_type": "code",
   "execution_count": 35,
   "metadata": {},
   "outputs": [
    {
     "name": "stdout",
     "output_type": "stream",
     "text": [
      "F:\\Git2\\English\\word\\02_gaokao_bcz.txt.sub\n"
     ]
    }
   ],
   "source": [
    "fpath2=fpath+\".sub\"\n",
    "with open(fpath2,'w',encoding='utf-8') as fp2:\n",
    "    fp2.write(string)\n",
    "print(fpath2.replace('/','\\\\'))"
   ]
  },
  {
   "cell_type": "code",
   "execution_count": 36,
   "metadata": {},
   "outputs": [],
   "source": [
    "for old in subject:\n",
    "    new=\"<\"+old+\">\"\n",
    "    string=string.replace(old,new)"
   ]
  }
 ],
 "metadata": {
  "kernelspec": {
   "display_name": "Python 3",
   "language": "python",
   "name": "python3"
  },
  "language_info": {
   "codemirror_mode": {
    "name": "ipython",
    "version": 3
   },
   "file_extension": ".py",
   "mimetype": "text/x-python",
   "name": "python",
   "nbconvert_exporter": "python",
   "pygments_lexer": "ipython3",
   "version": "3.7.3"
  },
  "toc": {
   "base_numbering": 1,
   "nav_menu": {},
   "number_sections": true,
   "sideBar": true,
   "skip_h1_title": true,
   "title_cell": "Table of Contents",
   "title_sidebar": "Contents",
   "toc_cell": false,
   "toc_position": {},
   "toc_section_display": true,
   "toc_window_display": false
  }
 },
 "nbformat": 4,
 "nbformat_minor": 4
}
