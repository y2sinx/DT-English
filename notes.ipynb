{
 "cells": [
  {
   "cell_type": "code",
   "execution_count": 13,
   "metadata": {},
   "outputs": [
    {
     "name": "stdout",
     "output_type": "stream",
     "text": [
      "cytokine: [a]/'saɪtə(ʊ)kaɪn/; [n]<细胞> 细胞因子;细胞激素; [add]; [or]:yd;\n"
     ]
    }
   ],
   "source": [
    "%kk cytokine"
   ]
  },
  {
   "cell_type": "code",
   "execution_count": 12,
   "metadata": {},
   "outputs": [
    {
     "name": "stdout",
     "output_type": "stream",
     "text": [
      "cytokine: [a]/'saɪtə(ʊ)kaɪn/; [n]<细胞> 细胞因子;细胞激素; [add]; [or]:yd;\n"
     ]
    }
   ],
   "source": [
    "%kk_line cytokine"
   ]
  },
  {
   "cell_type": "code",
   "execution_count": 7,
   "metadata": {},
   "outputs": [
    {
     "name": "stdout",
     "output_type": "stream",
     "text": [
      "@revising.txt: `cytokine: [a]/'saɪtə(ʊ)kaɪn/; [n..`\n"
     ]
    }
   ],
   "source": [
    "new=\"cytokine: [a]/'saɪtə(ʊ)kaɪn/; [n]<细胞> 细胞因子;细胞激素; [add]; [or]:yd;\"\n",
    "revise_to(new)"
   ]
  },
  {
   "cell_type": "code",
   "execution_count": null,
   "metadata": {},
   "outputs": [],
   "source": []
  },
  {
   "cell_type": "code",
   "execution_count": 9,
   "metadata": {},
   "outputs": [
    {
     "name": "stdout",
     "output_type": "stream",
     "text": [
      "@revising.txt: `new..`\n"
     ]
    }
   ],
   "source": [
    "%revise_to cytokine: [a]/'saɪtə(ʊ)kaɪn/; [n]<细胞> 细胞因子;细胞激素; [add]; [or]:yd;"
   ]
  }
 ],
 "metadata": {
  "kernelspec": {
   "display_name": "Python 3",
   "language": "python",
   "name": "python3"
  },
  "language_info": {
   "codemirror_mode": {
    "name": "ipython",
    "version": 3
   },
   "file_extension": ".py",
   "mimetype": "text/x-python",
   "name": "python",
   "nbconvert_exporter": "python",
   "pygments_lexer": "ipython3",
   "version": "3.7.3"
  },
  "toc": {
   "base_numbering": 1,
   "nav_menu": {},
   "number_sections": true,
   "sideBar": true,
   "skip_h1_title": true,
   "title_cell": "Table of Contents",
   "title_sidebar": "Contents",
   "toc_cell": false,
   "toc_position": {},
   "toc_section_display": true,
   "toc_window_display": false
  }
 },
 "nbformat": 4,
 "nbformat_minor": 4
}
