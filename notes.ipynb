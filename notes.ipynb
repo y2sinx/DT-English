{
 "cells": [
  {
   "cell_type": "markdown",
   "metadata": {},
   "source": [
    "1. 写个小程序把音标位置放在最前\n",
    "2. 将self中的单词释义改为有道形式\n"
   ]
  },
  {
   "cell_type": "code",
   "execution_count": 58,
   "metadata": {
    "scrolled": true
   },
   "outputs": [
    {
     "name": "stdout",
     "output_type": "stream",
     "text": [
      "Initializing:\n",
      "Number: 15259\n",
      "From: all\n"
     ]
    }
   ],
   "source": [
    "# %%disabled\n",
    "reload2(english)\n",
    "dt=english.EngDict('all')"
   ]
  },
  {
   "cell_type": "markdown",
   "metadata": {},
   "source": [
    "## group_self\n"
   ]
  },
  {
   "cell_type": "markdown",
   "metadata": {},
   "source": [
    "start over: 重新开始;从头再来  \n",
    "wake up: 自己醒来或被别人唤醒(醒一醒);激起;"
   ]
  },
  {
   "cell_type": "markdown",
   "metadata": {},
   "source": [
    "## word_self\n",
    "\n",
    "transfusion: [ac]/trænsˈfjuːʒn/; [n]输血;输液;倾注;灌输; [ad]pl/transfusions;"
   ]
  },
  {
   "cell_type": "code",
   "execution_count": 60,
   "metadata": {},
   "outputs": [
    {
     "name": "stdout",
     "output_type": "stream",
     "text": [
      "transfusion: [acc]/trænsˈfjuːʒn/; [n][临床] 输血;[临床] 输液;倾注;灌输; [add]复数/transfusions;\n"
     ]
    }
   ],
   "source": [
    "dt.lookup(\"transfusion\")"
   ]
  }
 ],
 "metadata": {
  "kernelspec": {
   "display_name": "Python 3",
   "language": "python",
   "name": "python3"
  },
  "language_info": {
   "codemirror_mode": {
    "name": "ipython",
    "version": 3
   },
   "file_extension": ".py",
   "mimetype": "text/x-python",
   "name": "python",
   "nbconvert_exporter": "python",
   "pygments_lexer": "ipython3",
   "version": "3.7.3"
  },
  "toc": {
   "base_numbering": 1,
   "nav_menu": {},
   "number_sections": true,
   "sideBar": true,
   "skip_h1_title": true,
   "title_cell": "Table of Contents",
   "title_sidebar": "Contents",
   "toc_cell": false,
   "toc_position": {},
   "toc_section_display": true,
   "toc_window_display": false
  }
 },
 "nbformat": 4,
 "nbformat_minor": 4
}
